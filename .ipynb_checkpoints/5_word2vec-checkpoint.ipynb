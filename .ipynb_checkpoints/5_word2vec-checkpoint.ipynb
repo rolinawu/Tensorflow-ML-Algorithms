{
 "cells": [
  {
   "cell_type": "markdown",
   "metadata": {
    "colab_type": "text",
    "id": "D7tqLMoKF6uq"
   },
   "source": [
    "Deep Learning\n",
    "=============\n",
    "\n",
    "Assignment 5\n",
    "------------\n",
    "\n",
    "The goal of this assignment is to train a Word2Vec skip-gram model over [Text8](http://mattmahoney.net/dc/textdata) data."
   ]
  },
  {
   "cell_type": "code",
   "execution_count": 2,
   "metadata": {
    "cellView": "both",
    "colab": {
     "autoexec": {
      "startup": false,
      "wait_interval": 0
     }
    },
    "colab_type": "code",
    "collapsed": true,
    "id": "0K1ZyLn04QZf"
   },
   "outputs": [],
   "source": [
    "# These are all the modules we'll be using later. Make sure you can import them\n",
    "# before proceeding further.\n",
    "%matplotlib inline\n",
    "from __future__ import print_function\n",
    "import collections\n",
    "import math\n",
    "import numpy as np\n",
    "import os\n",
    "import random\n",
    "import tensorflow as tf\n",
    "import zipfile\n",
    "from matplotlib import pylab\n",
    "from six.moves import range\n",
    "from six.moves.urllib.request import urlretrieve\n",
    "from sklearn.manifold import TSNE"
   ]
  },
  {
   "cell_type": "markdown",
   "metadata": {
    "colab_type": "text",
    "id": "aCjPJE944bkV"
   },
   "source": [
    "Download the data from the source website if necessary."
   ]
  },
  {
   "cell_type": "code",
   "execution_count": 3,
   "metadata": {
    "cellView": "both",
    "colab": {
     "autoexec": {
      "startup": false,
      "wait_interval": 0
     },
     "output_extras": [
      {
       "item_id": 1
      }
     ]
    },
    "colab_type": "code",
    "collapsed": false,
    "executionInfo": {
     "elapsed": 14640,
     "status": "ok",
     "timestamp": 1445964482948,
     "user": {
      "color": "#1FA15D",
      "displayName": "Vincent Vanhoucke",
      "isAnonymous": false,
      "isMe": true,
      "permissionId": "05076109866853157986",
      "photoUrl": "//lh6.googleusercontent.com/-cCJa7dTDcgQ/AAAAAAAAAAI/AAAAAAAACgw/r2EZ_8oYer4/s50-c-k-no/photo.jpg",
      "sessionId": "2f1ffade4c9f20de",
      "userId": "102167687554210253930"
     },
     "user_tz": 420
    },
    "id": "RJ-o3UBUFtCw",
    "outputId": "c4ec222c-80b5-4298-e635-93ca9f79c3b7"
   },
   "outputs": [
    {
     "name": "stdout",
     "output_type": "stream",
     "text": [
      "Found and verified text8.zip\n"
     ]
    }
   ],
   "source": [
    "url = 'http://mattmahoney.net/dc/'\n",
    "\n",
    "def maybe_download(filename, expected_bytes):\n",
    "  \"\"\"Download a file if not present, and make sure it's the right size.\"\"\"\n",
    "  if not os.path.exists(filename):\n",
    "    filename, _ = urlretrieve(url + filename, filename)\n",
    "  statinfo = os.stat(filename)\n",
    "  if statinfo.st_size == expected_bytes:\n",
    "    print('Found and verified %s' % filename)\n",
    "  else:\n",
    "    print(statinfo.st_size)\n",
    "    raise Exception(\n",
    "      'Failed to verify ' + filename + '. Can you get to it with a browser?')\n",
    "  return filename\n",
    "\n",
    "filename = maybe_download('text8.zip', 31344016)"
   ]
  },
  {
   "cell_type": "markdown",
   "metadata": {
    "colab_type": "text",
    "id": "Zqz3XiqI4mZT"
   },
   "source": [
    "Read the data into a string."
   ]
  },
  {
   "cell_type": "code",
   "execution_count": 47,
   "metadata": {
    "cellView": "both",
    "colab": {
     "autoexec": {
      "startup": false,
      "wait_interval": 0
     },
     "output_extras": [
      {
       "item_id": 1
      }
     ]
    },
    "colab_type": "code",
    "collapsed": false,
    "executionInfo": {
     "elapsed": 28844,
     "status": "ok",
     "timestamp": 1445964497165,
     "user": {
      "color": "#1FA15D",
      "displayName": "Vincent Vanhoucke",
      "isAnonymous": false,
      "isMe": true,
      "permissionId": "05076109866853157986",
      "photoUrl": "//lh6.googleusercontent.com/-cCJa7dTDcgQ/AAAAAAAAAAI/AAAAAAAACgw/r2EZ_8oYer4/s50-c-k-no/photo.jpg",
      "sessionId": "2f1ffade4c9f20de",
      "userId": "102167687554210253930"
     },
     "user_tz": 420
    },
    "id": "Mvf09fjugFU_",
    "outputId": "e3a928b4-1645-4fe8-be17-fcf47de5716d"
   },
   "outputs": [
    {
     "name": "stdout",
     "output_type": "stream",
     "text": [
      "Data size 17005207\n"
     ]
    }
   ],
   "source": [
    "def read_data(filename):\n",
    "  \"\"\"Extract the first file enclosed in a zip file as a list of words\"\"\"\n",
    "  with zipfile.ZipFile(filename) as f:\n",
    "    data = tf.compat.as_str(f.read(f.namelist()[0])).split()\n",
    "  return data\n",
    "  \n",
    "words = read_data(filename)\n",
    "print('Data size %d' % len(words))"
   ]
  },
  {
   "cell_type": "markdown",
   "metadata": {
    "colab_type": "text",
    "id": "Zdw6i4F8glpp"
   },
   "source": [
    "Build the dictionary and replace rare words with UNK token."
   ]
  },
  {
   "cell_type": "code",
   "execution_count": 48,
   "metadata": {
    "cellView": "both",
    "colab": {
     "autoexec": {
      "startup": false,
      "wait_interval": 0
     },
     "output_extras": [
      {
       "item_id": 1
      }
     ]
    },
    "colab_type": "code",
    "collapsed": false,
    "executionInfo": {
     "elapsed": 28849,
     "status": "ok",
     "timestamp": 1445964497178,
     "user": {
      "color": "#1FA15D",
      "displayName": "Vincent Vanhoucke",
      "isAnonymous": false,
      "isMe": true,
      "permissionId": "05076109866853157986",
      "photoUrl": "//lh6.googleusercontent.com/-cCJa7dTDcgQ/AAAAAAAAAAI/AAAAAAAACgw/r2EZ_8oYer4/s50-c-k-no/photo.jpg",
      "sessionId": "2f1ffade4c9f20de",
      "userId": "102167687554210253930"
     },
     "user_tz": 420
    },
    "id": "gAL1EECXeZsD",
    "outputId": "3fb4ecd1-df67-44b6-a2dc-2291730970b2"
   },
   "outputs": [
    {
     "name": "stdout",
     "output_type": "stream",
     "text": [
      "Most common words (+UNK) [['UNK', 418391], ('the', 1061396), ('of', 593677), ('and', 416629), ('one', 411764)]\n",
      "Sample data [5239, 3084, 12, 6, 195, 2, 3137, 46, 59, 156]\n"
     ]
    }
   ],
   "source": [
    "vocabulary_size = 50000\n",
    "\n",
    "def build_dataset(words):\n",
    "  count = [['UNK', -1]]\n",
    "  count.extend(collections.Counter(words).most_common(vocabulary_size - 1)) \n",
    "  #most common returns (word, frequency)\n",
    "  # everything else will belong to UNK\n",
    "  dictionary = dict()\n",
    "  for word, _ in count:\n",
    "    dictionary[word] = len(dictionary)\n",
    "  data = list()\n",
    "  unk_count = 0\n",
    "  for word in words:\n",
    "    if word in dictionary:\n",
    "      index = dictionary[word]\n",
    "    else:\n",
    "      index = 0  # dictionary['UNK']\n",
    "      unk_count = unk_count + 1\n",
    "    data.append(index)\n",
    "  count[0][1] = unk_count\n",
    "  reverse_dictionary = dict(zip(dictionary.values(), dictionary.keys())) \n",
    "  return data, count, dictionary, reverse_dictionary\n",
    "\n",
    "data, count, dictionary, reverse_dictionary = build_dataset(words)\n",
    "print('Most common words (+UNK)', count[:5])\n",
    "print('Sample data', data[:10])\n",
    "del words  # Hint to reduce memory.\n",
    "\n",
    "\n",
    "\n",
    "#dictionary stores the word:index (be aware that a dictionary is not necessary ordered)\n",
    "#data stores all the \"index\" of the words\n",
    "#reverse_dictionary: index:word\n",
    "#count: word:count"
   ]
  },
  {
   "cell_type": "markdown",
   "metadata": {
    "colab_type": "text",
    "id": "lFwoyygOmWsL"
   },
   "source": [
    "Function to generate a training batch for the skip-gram model."
   ]
  },
  {
   "cell_type": "code",
   "execution_count": 49,
   "metadata": {
    "collapsed": false
   },
   "outputs": [
    {
     "name": "stdout",
     "output_type": "stream",
     "text": [
      "anarchism ('anarchism', 303)\n",
      "originated ('originated', 572)\n",
      "as ('as', 131815)\n",
      "a ('a', 325873)\n",
      "term ('term', 7219)\n",
      "of ('of', 593677)\n",
      "abuse ('abuse', 563)\n",
      "first ('first', 28810)\n",
      "used ('used', 22737)\n",
      "against ('against', 8432)\n"
     ]
    }
   ],
   "source": [
    "for i in data[:10]:\n",
    "    print(reverse_dictionary[i], count[i])\n",
    "    #this is random since dictionaries are not ordered"
   ]
  },
  {
   "cell_type": "markdown",
   "metadata": {},
   "source": [
    "*****\n",
    "all words are represented as a number\n",
    "#data is stored under .data.\n",
    "the word representation are represented by the index in word.\n",
    "\"\""
   ]
  },
  {
   "cell_type": "code",
   "execution_count": 50,
   "metadata": {
    "cellView": "both",
    "colab": {
     "autoexec": {
      "startup": false,
      "wait_interval": 0
     },
     "output_extras": [
      {
       "item_id": 1
      }
     ]
    },
    "colab_type": "code",
    "collapsed": false,
    "executionInfo": {
     "elapsed": 113,
     "status": "ok",
     "timestamp": 1445964901989,
     "user": {
      "color": "#1FA15D",
      "displayName": "Vincent Vanhoucke",
      "isAnonymous": false,
      "isMe": true,
      "permissionId": "05076109866853157986",
      "photoUrl": "//lh6.googleusercontent.com/-cCJa7dTDcgQ/AAAAAAAAAAI/AAAAAAAACgw/r2EZ_8oYer4/s50-c-k-no/photo.jpg",
      "sessionId": "2f1ffade4c9f20de",
      "userId": "102167687554210253930"
     },
     "user_tz": 420
    },
    "id": "w9APjA-zmfjV",
    "outputId": "67cccb02-cdaf-4e47-d489-43bcc8d57bb8"
   },
   "outputs": [
    {
     "name": "stdout",
     "output_type": "stream",
     "text": [
      "data: ['anarchism', 'originated', 'as', 'a', 'term', 'of', 'abuse', 'first']\n",
      "\n",
      "with num_skips = 2 and skip_window = 1:\n",
      "    batch: ['originated', 'originated', 'as', 'as', 'a', 'a', 'term', 'term']\n",
      "    labels: ['as', 'anarchism', 'originated', 'a', 'term', 'as', 'a', 'of']\n",
      "\n",
      "with num_skips = 4 and skip_window = 5:\n",
      "    batch: ['of', 'of', 'of', 'of', 'abuse', 'abuse', 'abuse', 'abuse']\n",
      "    labels: ['used', 'abuse', 'term', 'a', 'working', 'originated', 'term', 'as']\n"
     ]
    }
   ],
   "source": [
    "data_index = 0\n",
    "\n",
    "def generate_batch(batch_size, num_skips, skip_window):\n",
    "  global data_index\n",
    "  assert batch_size % num_skips == 0\n",
    "  assert num_skips <= 2 * skip_window\n",
    "  batch = np.ndarray(shape=(batch_size), dtype=np.int32)\n",
    "  labels = np.ndarray(shape=(batch_size, 1), dtype=np.int32)\n",
    "  span = 2 * skip_window + 1 # [ skip_window target skip_window ]\n",
    "  buffer = collections.deque(maxlen=span) #create a deque\n",
    "  for _ in range(span): \n",
    "    buffer.append(data[data_index]) #add span amount of first few words \n",
    "    data_index = (data_index + 1) % len(data) #iterate back if overflow\n",
    "  for i in range(batch_size // num_skips): #how many set of windows\n",
    "    target = skip_window  # target label at the center of the buffer\n",
    "    targets_to_avoid = [ skip_window ]\n",
    "    for j in range(num_skips):\n",
    "      while target in targets_to_avoid:\n",
    "        target = random.randint(0, span - 1)\n",
    "      targets_to_avoid.append(target)\n",
    "      batch[i * num_skips + j] = buffer[skip_window]\n",
    "      #adding the word\n",
    "      labels[i * num_skips + j, 0] = buffer[target]\n",
    "      #labels is a numpy array thus, labels[row_ind, col_index]\n",
    "    \n",
    "    buffer.append(data[data_index])#automatically take out the first word\n",
    "    #imagine this is the window, its keeping the window sliding\n",
    "    data_index = (data_index + 1) % len(data)\n",
    "    #represent index of next word to append\n",
    "    \n",
    "  return batch, labels\n",
    "\n",
    "print('data:', [reverse_dictionary[di] for di in data[:8]])\n",
    "\n",
    "for num_skips, skip_window in [(2, 1), (4, 5)]:\n",
    "    data_index = 0\n",
    "    batch, labels = generate_batch(batch_size=8, num_skips=num_skips, skip_window=skip_window)\n",
    "    print('\\nwith num_skips = %d and skip_window = %d:' % (num_skips, skip_window))\n",
    "    print('    batch:', [reverse_dictionary[bi] for bi in batch])\n",
    "    print('    labels:', [reverse_dictionary[li] for li in labels.reshape(8)])"
   ]
  },
  {
   "cell_type": "markdown",
   "metadata": {
    "colab_type": "text",
    "id": "Ofd1MbBuwiva"
   },
   "source": [
    "Train a skip-gram model."
   ]
  },
  {
   "cell_type": "code",
   "execution_count": 53,
   "metadata": {
    "cellView": "both",
    "colab": {
     "autoexec": {
      "startup": false,
      "wait_interval": 0
     }
    },
    "colab_type": "code",
    "collapsed": true,
    "id": "8pQKsV4Vwlzy"
   },
   "outputs": [],
   "source": [
    "batch_size = 128\n",
    "embedding_size = 128 # Dimension of the embedding vector.\n",
    "skip_window = 1 # How many words to consider left and right.\n",
    "num_skips = 2 # How many times to reuse an input to generate a label.\n",
    "# We pick a random validation set to sample nearest neighbors. here we limit the\n",
    "# validation samples to the words that have a low numeric ID, which by\n",
    "# construction are also the most frequent. \n",
    "valid_size = 16 # Random set of words to evaluate similarity on.\n",
    "valid_window = 100 # Only pick dev samples in the head of the distribution.\n",
    "valid_examples = np.array(random.sample(range(valid_window), valid_size))\n",
    "num_sampled = 64 # Number of negative examples to sample.\n",
    "\n",
    "graph = tf.Graph()\n",
    "\n",
    "with graph.as_default(), tf.device('/cpu:0'):\n",
    "\n",
    "  # Input data.\n",
    "  train_dataset = tf.placeholder(tf.int32, shape=[batch_size])\n",
    "  train_labels = tf.placeholder(tf.int32, shape=[batch_size, 1])\n",
    "  valid_dataset = tf.constant(valid_examples, dtype=tf.int32)\n",
    "  \n",
    "  # Variables.\n",
    "  embeddings = tf.Variable(\n",
    "    tf.random_uniform([vocabulary_size, embedding_size], -1.0, 1.0))\n",
    "  softmax_weights = tf.Variable(\n",
    "    tf.truncated_normal([vocabulary_size, embedding_size],\n",
    "                         stddev=1.0 / math.sqrt(embedding_size)))\n",
    "  softmax_biases = tf.Variable(tf.zeros([vocabulary_size]))\n",
    "  \n",
    "  # Model.\n",
    "  # Look up embeddings for inputs.\n",
    "  embed = tf.nn.embedding_lookup(embeddings, train_dataset)\n",
    "  # Compute the softmax loss, using a sample of the negative labels each time.\n",
    "  loss = tf.reduce_mean(\n",
    "    tf.nn.sampled_softmax_loss(softmax_weights, softmax_biases, embed,\n",
    "                               train_labels, num_sampled, vocabulary_size))\n",
    "\n",
    "  # Optimizer.\n",
    "  # Note: The optimizer will optimize the softmax_weights AND the embeddings.\n",
    "  # This is because the embeddings are defined as a variable quantity and the\n",
    "  # optimizer's `minimize` method will by default modify all variable quantities \n",
    "  # that contribute to the tensor it is passed.\n",
    "  # See docs on `tf.train.Optimizer.minimize()` for more details.\n",
    "  optimizer = tf.train.AdagradOptimizer(1.0).minimize(loss)\n",
    "  \n",
    "  # Compute the similarity between minibatch examples and all embeddings.\n",
    "  # We use the cosine distance:\n",
    "  norm = tf.sqrt(tf.reduce_sum(tf.square(embeddings), 1, keep_dims=True))\n",
    "  normalized_embeddings = embeddings / norm\n",
    "  valid_embeddings = tf.nn.embedding_lookup(\n",
    "    normalized_embeddings, valid_dataset)\n",
    "  similarity = tf.matmul(valid_embeddings, tf.transpose(normalized_embeddings))"
   ]
  },
  {
   "cell_type": "code",
   "execution_count": 66,
   "metadata": {
    "cellView": "both",
    "colab": {
     "autoexec": {
      "startup": false,
      "wait_interval": 0
     },
     "output_extras": [
      {
       "item_id": 23
      },
      {
       "item_id": 48
      },
      {
       "item_id": 61
      }
     ]
    },
    "colab_type": "code",
    "collapsed": false,
    "executionInfo": {
     "elapsed": 436189,
     "status": "ok",
     "timestamp": 1445965429787,
     "user": {
      "color": "#1FA15D",
      "displayName": "Vincent Vanhoucke",
      "isAnonymous": false,
      "isMe": true,
      "permissionId": "05076109866853157986",
      "photoUrl": "//lh6.googleusercontent.com/-cCJa7dTDcgQ/AAAAAAAAAAI/AAAAAAAACgw/r2EZ_8oYer4/s50-c-k-no/photo.jpg",
      "sessionId": "2f1ffade4c9f20de",
      "userId": "102167687554210253930"
     },
     "user_tz": 420
    },
    "id": "1bQFGceBxrWW",
    "outputId": "5ebd6d9a-33c6-4bcd-bf6d-252b0b6055e4"
   },
   "outputs": [
    {
     "name": "stdout",
     "output_type": "stream",
     "text": [
      "Initialized\n",
      "Average loss at step 0: 8.040545\n",
      "Nearest to other: polyester, cover, alleviate, mtu, bibles, quartier, predictions, intellectuals,\n",
      "Nearest to the: leonid, gur, qatar, substituting, prophetess, notated, semaphore, masonry,\n",
      "Nearest to most: sdk, zeitung, landscaping, lit, dumfries, thermometer, mordred, silly,\n",
      "Nearest to no: maude, malaya, stacked, aalen, ladefoged, kl, wrinkled, reintroducing,\n",
      "Nearest to would: koala, lassen, intervention, inhibitor, incandescent, jeju, laud, normalization,\n",
      "Nearest to first: engagement, eel, kris, hutch, fight, susannah, xis, remarriage,\n",
      "Nearest to was: darshan, mamma, chancellors, once, munch, jefferson, rallies, bucky,\n",
      "Nearest to but: eichmann, warden, desired, emily, toshiba, auctions, inoculated, libya,\n",
      "Nearest to american: lancastrian, watches, helium, circumstance, benetton, triomphe, ruining, boys,\n",
      "Nearest to during: espoo, maka, lecture, schottky, azzam, goldwyn, frescoes, transcripts,\n",
      "Nearest to when: climate, masked, museums, mongolia, dicots, stay, alene, graphemes,\n",
      "Nearest to use: lusatia, crtc, wife, landmarks, scriptwriter, signed, disintegration, eavesdropping,\n",
      "Nearest to in: sixteen, familia, somoza, valiant, breaching, orphaned, onscreen, playing,\n",
      "Nearest to these: appendage, lanthanum, solved, substantially, adage, experiment, gandalf, ball,\n",
      "Nearest to history: retrieving, neuroscientist, securities, reginald, porters, beverages, dubai, malawi,\n",
      "Nearest to two: torus, moldavian, varna, int, uncivilized, catastrophism, deceiver, mack,\n",
      "Average loss at step 2000: 4.320081\n",
      "Average loss at step 4000: 3.774159\n",
      "Average loss at step 6000: 3.820155\n",
      "Average loss at step 8000: 3.732480\n",
      "Average loss at step 10000: 3.688389\n",
      "Nearest to other: proposals, bangkok, intellectuals, taboos, chases, yeomen, us, subjects,\n",
      "Nearest to the: his, a, its, their, hesitated, this, isolate, some,\n",
      "Nearest to most: lit, christiansen, curtailing, zeitung, repetitive, countermeasure, haunted, blackout,\n",
      "Nearest to no: it, bruford, a, whitbread, taro, bartleby, ladefoged, common,\n",
      "Nearest to would: should, can, will, could, keenly, lassen, hats, thorndike,\n",
      "Nearest to first: engagement, longwave, kris, lederman, newtons, xis, uomo, last,\n",
      "Nearest to was: is, were, shooting, has, had, by, are, nacl,\n",
      "Nearest to but: she, are, desired, auctions, hitch, accountancy, that, only,\n",
      "Nearest to american: watches, fsm, chelsea, fertile, mistresses, behe, chrome, rages,\n",
      "Nearest to during: from, espoo, after, yielding, hellbender, paddy, crossed, toed,\n",
      "Nearest to when: dicots, fsf, writable, masked, climate, term, although, however,\n",
      "Nearest to use: lusatia, wife, right, signed, residing, catiline, crtc, side,\n",
      "Nearest to in: on, of, at, from, familia, with, by, membranes,\n",
      "Nearest to these: some, originate, sights, attached, sages, possession, adage, fit,\n",
      "Nearest to history: emptying, retrieving, ido, neuroscientist, kerk, presided, xxvii, foobar,\n",
      "Nearest to two: three, one, five, seven, eight, four, six, zero,\n",
      "Average loss at step 12000: 3.595399\n",
      "Average loss at step 14000: 3.504952\n",
      "Average loss at step 16000: 3.563743\n",
      "Average loss at step 18000: 3.597176\n",
      "Average loss at step 20000: 3.587554\n",
      "Nearest to other: many, earlier, some, proposals, these, different, chases, yeomen,\n",
      "Nearest to the: their, his, its, this, a, isolate, presbyterian, surreal,\n",
      "Nearest to most: lit, more, gerardus, repetitive, stabilizers, supercharger, bacon, programmed,\n",
      "Nearest to no: bruford, it, only, taro, there, lollardy, censoring, representation,\n",
      "Nearest to would: can, will, could, should, may, must, might, lassen,\n",
      "Nearest to first: last, engagement, second, decoded, next, candu, newtons, decipherment,\n",
      "Nearest to was: is, had, were, has, became, been, nacl, be,\n",
      "Nearest to but: and, however, although, chechen, ti, which, renounced, will,\n",
      "Nearest to american: german, watches, fsm, english, mci, fertile, greek, chelsea,\n",
      "Nearest to during: after, in, paddy, from, thelma, tano, at, hellbender,\n",
      "Nearest to when: before, if, nanotech, although, fsf, and, for, while,\n",
      "Nearest to use: lusatia, catiline, need, side, signed, out, perverse, wife,\n",
      "Nearest to in: on, from, at, of, with, during, under, and,\n",
      "Nearest to these: some, many, several, originate, certain, sights, their, all,\n",
      "Nearest to history: ido, retrieving, emptying, kerk, xxvii, presided, foobar, neuroscientist,\n",
      "Nearest to two: three, six, four, five, eight, seven, one, zero,\n",
      "Average loss at step 22000: 3.555761\n",
      "Average loss at step 24000: 3.518171\n",
      "Average loss at step 26000: 3.495109\n",
      "Average loss at step 28000: 3.403942\n",
      "Average loss at step 30000: 3.498580\n",
      "Nearest to other: many, some, earlier, different, various, southerner, chaldean, melanesia,\n",
      "Nearest to the: its, a, forecasts, his, their, miguel, clover, diffraction,\n",
      "Nearest to most: more, lit, automator, programmed, taboos, many, gerardus, blackout,\n",
      "Nearest to no: only, dmc, often, taro, bruford, a, any, censoring,\n",
      "Nearest to would: can, could, will, should, may, might, must, did,\n",
      "Nearest to first: last, next, engagement, second, same, newtons, candu, ls,\n",
      "Nearest to was: is, has, were, when, had, became, shooting, nacl,\n",
      "Nearest to but: however, although, until, while, and, ti, when, see,\n",
      "Nearest to american: german, english, watches, americans, greek, mci, fsm, geophysical,\n",
      "Nearest to during: after, paddy, in, under, from, hellbender, throughout, thelma,\n",
      "Nearest to when: before, was, if, after, while, however, although, nanotech,\n",
      "Nearest to use: need, catiline, lusatia, history, side, restorer, right, marrying,\n",
      "Nearest to in: of, during, at, since, with, from, until, and,\n",
      "Nearest to these: many, some, certain, several, such, they, which, all,\n",
      "Nearest to history: emptying, use, fait, genius, teleology, diasporas, exotic, ido,\n",
      "Nearest to two: three, four, six, five, eight, seven, nine, one,\n",
      "Average loss at step 32000: 3.472216\n",
      "Average loss at step 34000: 3.411979\n",
      "Average loss at step 36000: 3.466921\n",
      "Average loss at step 38000: 3.466632\n",
      "Average loss at step 40000: 3.436689\n",
      "Nearest to other: various, many, some, earlier, different, such, graduating, these,\n",
      "Nearest to the: its, their, his, this, a, any, each, another,\n",
      "Nearest to most: more, many, programmed, automator, all, some, less, taboos,\n",
      "Nearest to no: dmc, another, only, taro, there, vistula, censoring, bruford,\n",
      "Nearest to would: will, can, could, may, should, must, might, cannot,\n",
      "Nearest to first: last, second, next, engagement, ls, candu, decoded, enraged,\n",
      "Nearest to was: is, became, had, were, has, be, been, dawson,\n",
      "Nearest to but: however, although, and, when, while, that, though, ti,\n",
      "Nearest to american: german, greek, british, watches, english, americans, mci, rectal,\n",
      "Nearest to during: after, in, under, from, paddy, between, until, throughout,\n",
      "Nearest to when: if, before, after, while, although, however, but, where,\n",
      "Nearest to use: need, lusatia, catiline, study, governance, restorer, rushton, williamite,\n",
      "Nearest to in: on, of, during, from, at, around, throughout, until,\n",
      "Nearest to these: some, many, several, such, certain, those, all, various,\n",
      "Nearest to history: genius, modern, underscore, western, see, fait, reinvention, emptying,\n",
      "Nearest to two: three, four, five, seven, six, eight, nine, zero,\n",
      "Average loss at step 42000: 3.473375\n",
      "Average loss at step 44000: 3.451150\n",
      "Average loss at step 46000: 3.313179\n",
      "Average loss at step 48000: 3.430516\n",
      "Average loss at step 50000: 3.430021\n",
      "Nearest to other: various, many, gemara, graduating, melanesia, some, earlier, hominid,\n",
      "Nearest to the: its, any, their, his, a, some, another, forecasts,\n",
      "Nearest to most: more, many, some, less, programmed, bangalore, jag, parlor,\n",
      "Nearest to no: there, dmc, another, only, vistula, taro, little, bruford,\n",
      "Nearest to would: will, could, can, may, should, might, must, cannot,\n",
      "Nearest to first: last, second, next, same, engagement, during, candu, ls,\n",
      "Nearest to was: is, were, had, became, has, been, does, nacl,\n",
      "Nearest to but: however, although, while, though, and, when, that, see,\n",
      "Nearest to american: british, german, english, rectal, provides, americans, yourselves, mci,\n",
      "Nearest to during: after, in, paddy, under, throughout, until, at, before,\n",
      "Nearest to when: if, before, while, although, after, however, where, nanotech,\n",
      "Nearest to use: need, catiline, restorer, williamite, austrians, lusatia, rarest, study,\n",
      "Nearest to in: during, of, on, and, within, throughout, since, through,\n",
      "Nearest to these: several, many, some, those, such, both, certain, are,\n",
      "Nearest to history: geography, genius, list, reinvention, modern, guadalajara, western, foobar,\n",
      "Nearest to two: three, one, four, six, five, seven, nine, eight,\n",
      "Average loss at step 52000: 3.336562\n",
      "Average loss at step 54000: 3.375353\n",
      "Average loss at step 56000: 3.391974\n",
      "Average loss at step 58000: 3.355765\n",
      "Average loss at step 60000: 3.009184\n",
      "Nearest to other: various, graduating, many, proposals, including, different, others, hominid,\n",
      "Nearest to the: a, his, her, their, its, ayin, this, stalker,\n",
      "Nearest to most: more, many, some, greet, hakka, jag, less, all,\n",
      "Nearest to no: dmc, bruford, expired, any, taro, little, vistula, corsairs,\n",
      "Nearest to would: will, could, can, should, might, may, must, cannot,\n",
      "Nearest to first: second, last, next, engagement, third, best, newtons, same,\n",
      "Nearest to was: is, had, became, were, has, be, are, been,\n",
      "Nearest to but: however, although, though, while, and, he, kish, they,\n",
      "Nearest to american: english, german, british, french, russian, and, irish, chrome,\n",
      "Nearest to during: after, paddy, at, under, since, until, however, before,\n",
      "Nearest to when: if, while, although, before, where, after, nanotech, however,\n",
      "Nearest to use: need, catiline, cause, populist, bearing, austrofascism, fairly, restorer,\n",
      "Nearest to in: at, from, with, during, for, on, onscreen, until,\n",
      "Nearest to these: several, many, some, those, such, all, certain, both,\n",
      "Nearest to history: geography, list, genius, guadalajara, modern, course, reinvention, foobar,\n",
      "Nearest to two: three, five, four, seven, six, eight, zero, one,\n",
      "Average loss at step 62000: 2.978554\n",
      "Average loss at step 64000: 3.119959\n",
      "Average loss at step 66000: 3.253391\n",
      "Average loss at step 68000: 3.287296\n",
      "Average loss at step 70000: 3.327458\n",
      "Nearest to other: various, many, graduating, others, different, proposals, chases, earlier,\n",
      "Nearest to the: its, his, their, forecasts, her, this, some, according,\n",
      "Nearest to most: more, many, less, some, hakka, amidst, przewodnicz, parlor,\n",
      "Nearest to no: dmc, little, any, vistula, expired, bruford, taro, nissan,\n",
      "Nearest to would: could, will, can, might, should, must, may, did,\n",
      "Nearest to first: last, second, next, fourth, third, only, enraged, engagement,\n",
      "Nearest to was: is, has, became, had, were, although, been, be,\n",
      "Nearest to but: however, and, although, though, while, he, when, kish,\n",
      "Nearest to american: british, english, french, australian, irish, russian, german, japanese,\n",
      "Nearest to during: under, after, at, in, paddy, since, until, following,\n",
      "Nearest to when: if, while, where, although, before, after, though, however,\n",
      "Nearest to use: need, cause, catiline, study, responsibility, populist, utilities, amount,\n",
      "Nearest to in: at, on, during, since, between, under, around, within,\n",
      "Nearest to these: several, many, some, those, all, his, such, both,\n",
      "Nearest to history: list, geography, modern, genius, foobar, course, wider, western,\n",
      "Nearest to two: three, four, five, eight, six, seven, one, zero,\n",
      "Average loss at step 72000: 3.273557\n",
      "Average loss at step 74000: 3.334384\n",
      "Average loss at step 76000: 3.385524\n",
      "Average loss at step 78000: 3.411730\n",
      "Average loss at step 80000: 3.345160\n",
      "Nearest to other: various, different, some, many, several, such, paddington, are,\n",
      "Nearest to the: its, their, each, his, any, this, stranded, childish,\n",
      "Nearest to most: more, many, some, less, amidst, especially, przewodnicz, hakka,\n",
      "Nearest to no: dmc, little, any, a, taro, bruford, darwinian, vistula,\n",
      "Nearest to would: will, could, might, should, can, must, may, cannot,\n",
      "Nearest to first: second, last, next, third, fourth, same, padded, alsos,\n",
      "Nearest to was: is, became, has, had, were, when, be, although,\n",
      "Nearest to but: however, although, and, when, though, while, since, it,\n",
      "Nearest to american: english, british, australian, irish, german, french, russian, japanese,\n",
      "Nearest to during: after, in, under, since, against, before, although, following,\n",
      "Nearest to when: if, although, while, after, where, though, before, however,\n",
      "Nearest to use: need, cause, study, restorer, catiline, austrofascism, irritant, ability,\n",
      "Nearest to in: during, since, within, on, from, throughout, until, including,\n",
      "Nearest to these: several, many, those, some, such, both, all, certain,\n",
      "Nearest to history: list, geography, foobar, course, kearns, tame, tribal, modern,\n",
      "Nearest to two: three, four, five, seven, six, eight, one, nine,\n",
      "Average loss at step 82000: 3.388607\n",
      "Average loss at step 84000: 3.123488\n",
      "Average loss at step 86000: 3.321432\n",
      "Average loss at step 88000: 3.352134\n",
      "Average loss at step 90000: 3.303080\n",
      "Nearest to other: various, many, different, several, graduating, most, proposals, more,\n",
      "Nearest to the: their, its, stranded, forecasts, our, his, any, ayin,\n",
      "Nearest to most: more, many, less, especially, some, other, programmed, przewodnicz,\n",
      "Nearest to no: little, any, dmc, only, vistula, another, fpga, taro,\n",
      "Nearest to would: will, could, should, might, can, must, may, did,\n",
      "Nearest to first: last, second, next, third, fourth, decoded, fifth, same,\n",
      "Nearest to was: is, had, were, has, became, be, been, vogel,\n",
      "Nearest to but: however, although, though, and, while, really, alans, or,\n",
      "Nearest to american: english, british, irish, russian, french, australian, german, rectal,\n",
      "Nearest to during: after, in, before, until, however, although, when, under,\n",
      "Nearest to when: if, although, while, before, after, where, though, until,\n",
      "Nearest to use: need, cause, amount, sense, signing, list, austrians, austrofascism,\n",
      "Nearest to in: during, on, at, of, within, throughout, and, with,\n",
      "Nearest to these: many, some, those, several, such, which, both, various,\n",
      "Nearest to history: geography, modern, course, list, kearns, foobar, tribal, earl,\n",
      "Nearest to two: three, four, five, six, seven, eight, nine, zero,\n",
      "Average loss at step 92000: 3.347301\n",
      "Average loss at step 94000: 3.376857\n",
      "Average loss at step 96000: 3.297974\n",
      "Average loss at step 98000: 3.386034\n",
      "Average loss at step 100000: 3.118491\n",
      "Nearest to other: various, different, many, graduating, manhood, several, including, pointwise,\n",
      "Nearest to the: its, their, any, hesitated, her, each, woodbridge, forecasts,\n",
      "Nearest to most: more, less, some, many, especially, przewodnicz, programmed, greatest,\n",
      "Nearest to no: little, dmc, only, any, composing, taro, vistula, fpga,\n",
      "Nearest to would: will, could, should, might, must, can, may, cannot,\n",
      "Nearest to first: last, second, next, third, fourth, fets, fifth, elderly,\n",
      "Nearest to was: is, were, had, has, became, been, be, although,\n",
      "Nearest to but: however, although, though, while, and, which, see, when,\n",
      "Nearest to american: russian, british, irish, french, australian, english, german, japanese,\n",
      "Nearest to during: after, in, before, at, until, throughout, although, despite,\n",
      "Nearest to when: although, if, while, before, where, though, after, during,\n",
      "Nearest to use: need, cause, austrofascism, ability, define, restorer, irritant, amount,\n",
      "Nearest to in: during, until, on, throughout, within, at, through, around,\n",
      "Nearest to these: those, many, some, such, several, various, both, different,\n",
      "Nearest to history: list, geography, kearns, modern, journal, review, see, course,\n",
      "Nearest to two: four, three, five, seven, six, one, eight, nine,\n"
     ]
    }
   ],
   "source": [
    "num_steps = 100001\n",
    "\n",
    "with tf.Session(graph=graph) as session:\n",
    "  tf.initialize_all_variables().run()\n",
    "  print('Initialized')\n",
    "  average_loss = 0\n",
    "  for step in range(num_steps):\n",
    "    batch_data, batch_labels = generate_batch(\n",
    "      batch_size, num_skips, skip_window)\n",
    "    feed_dict = {train_dataset : batch_data, train_labels : batch_labels}\n",
    "    _, l = session.run([optimizer, loss], feed_dict=feed_dict)\n",
    "    average_loss += l\n",
    "    if step % 2000 == 0:\n",
    "      if step > 0:\n",
    "        average_loss = average_loss / 2000\n",
    "      # The average loss is an estimate of the loss over the last 2000 batches.\n",
    "      print('Average loss at step %d: %f' % (step, average_loss))\n",
    "      average_loss = 0\n",
    "    # note that this is expensive (~20% slowdown if computed every 500 steps)\n",
    "    if step % 10000 == 0:\n",
    "      sim = similarity.eval()\n",
    "      for i in range(valid_size):\n",
    "        valid_word = reverse_dictionary[valid_examples[i]]\n",
    "        top_k = 8 # number of nearest neighbors\n",
    "        nearest = (-sim[i, :]).argsort()[1:top_k+1]\n",
    "        log = 'Nearest to %s:' % valid_word\n",
    "        for k in range(top_k):\n",
    "          close_word = reverse_dictionary[nearest[k]]\n",
    "          log = '%s %s,' % (log, close_word)\n",
    "        print(log)\n",
    "  final_embeddings = normalized_embeddings.eval()"
   ]
  },
  {
   "cell_type": "code",
   "execution_count": 67,
   "metadata": {
    "cellView": "both",
    "colab": {
     "autoexec": {
      "startup": false,
      "wait_interval": 0
     }
    },
    "colab_type": "code",
    "collapsed": false,
    "id": "jjJXYA_XzV79"
   },
   "outputs": [
    {
     "ename": "ValueError",
     "evalue": "array must not contain infs or NaNs",
     "output_type": "error",
     "traceback": [
      "\u001b[0;31m---------------------------------------------------------------------------\u001b[0m",
      "\u001b[0;31mValueError\u001b[0m                                Traceback (most recent call last)",
      "\u001b[0;32m<ipython-input-67-f70c03698d67>\u001b[0m in \u001b[0;36m<module>\u001b[0;34m()\u001b[0m\n\u001b[1;32m      2\u001b[0m \u001b[0;34m\u001b[0m\u001b[0m\n\u001b[1;32m      3\u001b[0m \u001b[0mtsne\u001b[0m \u001b[0;34m=\u001b[0m \u001b[0mTSNE\u001b[0m\u001b[0;34m(\u001b[0m\u001b[0mperplexity\u001b[0m\u001b[0;34m=\u001b[0m\u001b[0;36m30\u001b[0m\u001b[0;34m,\u001b[0m \u001b[0mn_components\u001b[0m\u001b[0;34m=\u001b[0m\u001b[0;36m2\u001b[0m\u001b[0;34m,\u001b[0m \u001b[0minit\u001b[0m\u001b[0;34m=\u001b[0m\u001b[0;34m'pca'\u001b[0m\u001b[0;34m,\u001b[0m \u001b[0mn_iter\u001b[0m\u001b[0;34m=\u001b[0m\u001b[0;36m5000\u001b[0m\u001b[0;34m)\u001b[0m\u001b[0;34m\u001b[0m\u001b[0m\n\u001b[0;32m----> 4\u001b[0;31m \u001b[0mtwo_d_embeddings\u001b[0m \u001b[0;34m=\u001b[0m \u001b[0mtsne\u001b[0m\u001b[0;34m.\u001b[0m\u001b[0mfit_transform\u001b[0m\u001b[0;34m(\u001b[0m\u001b[0mfinal_embeddings\u001b[0m\u001b[0;34m[\u001b[0m\u001b[0;36m1\u001b[0m\u001b[0;34m:\u001b[0m\u001b[0mnum_points\u001b[0m\u001b[0;34m+\u001b[0m\u001b[0;36m1\u001b[0m\u001b[0;34m,\u001b[0m \u001b[0;34m:\u001b[0m\u001b[0;34m]\u001b[0m\u001b[0;34m)\u001b[0m\u001b[0;34m\u001b[0m\u001b[0m\n\u001b[0m",
      "\u001b[0;32m/Users/Rolina/anaconda/lib/python2.7/site-packages/sklearn/manifold/t_sne.pyc\u001b[0m in \u001b[0;36mfit_transform\u001b[0;34m(self, X, y)\u001b[0m\n\u001b[1;32m    864\u001b[0m             \u001b[0mEmbedding\u001b[0m \u001b[0mof\u001b[0m \u001b[0mthe\u001b[0m \u001b[0mtraining\u001b[0m \u001b[0mdata\u001b[0m \u001b[0;32min\u001b[0m \u001b[0mlow\u001b[0m\u001b[0;34m-\u001b[0m\u001b[0mdimensional\u001b[0m \u001b[0mspace\u001b[0m\u001b[0;34m.\u001b[0m\u001b[0;34m\u001b[0m\u001b[0m\n\u001b[1;32m    865\u001b[0m         \"\"\"\n\u001b[0;32m--> 866\u001b[0;31m         \u001b[0membedding\u001b[0m \u001b[0;34m=\u001b[0m \u001b[0mself\u001b[0m\u001b[0;34m.\u001b[0m\u001b[0m_fit\u001b[0m\u001b[0;34m(\u001b[0m\u001b[0mX\u001b[0m\u001b[0;34m)\u001b[0m\u001b[0;34m\u001b[0m\u001b[0m\n\u001b[0m\u001b[1;32m    867\u001b[0m         \u001b[0mself\u001b[0m\u001b[0;34m.\u001b[0m\u001b[0membedding_\u001b[0m \u001b[0;34m=\u001b[0m \u001b[0membedding\u001b[0m\u001b[0;34m\u001b[0m\u001b[0m\n\u001b[1;32m    868\u001b[0m         \u001b[0;32mreturn\u001b[0m \u001b[0mself\u001b[0m\u001b[0;34m.\u001b[0m\u001b[0membedding_\u001b[0m\u001b[0;34m\u001b[0m\u001b[0m\n",
      "\u001b[0;32m/Users/Rolina/anaconda/lib/python2.7/site-packages/sklearn/manifold/t_sne.pyc\u001b[0m in \u001b[0;36m_fit\u001b[0;34m(self, X, skip_num_points)\u001b[0m\n\u001b[1;32m    775\u001b[0m                           \u001b[0mX_embedded\u001b[0m\u001b[0;34m=\u001b[0m\u001b[0mX_embedded\u001b[0m\u001b[0;34m,\u001b[0m\u001b[0;34m\u001b[0m\u001b[0m\n\u001b[1;32m    776\u001b[0m                           \u001b[0mneighbors\u001b[0m\u001b[0;34m=\u001b[0m\u001b[0mneighbors_nn\u001b[0m\u001b[0;34m,\u001b[0m\u001b[0;34m\u001b[0m\u001b[0m\n\u001b[0;32m--> 777\u001b[0;31m                           skip_num_points=skip_num_points)\n\u001b[0m\u001b[1;32m    778\u001b[0m \u001b[0;34m\u001b[0m\u001b[0m\n\u001b[1;32m    779\u001b[0m     def _tsne(self, P, degrees_of_freedom, n_samples, random_state,\n",
      "\u001b[0;32m/Users/Rolina/anaconda/lib/python2.7/site-packages/sklearn/manifold/t_sne.pyc\u001b[0m in \u001b[0;36m_tsne\u001b[0;34m(self, P, degrees_of_freedom, n_samples, random_state, X_embedded, neighbors, skip_num_points)\u001b[0m\n\u001b[1;32m    830\u001b[0m         \u001b[0mopt_args\u001b[0m\u001b[0;34m[\u001b[0m\u001b[0;34m'momentum'\u001b[0m\u001b[0;34m]\u001b[0m \u001b[0;34m=\u001b[0m \u001b[0;36m0.8\u001b[0m\u001b[0;34m\u001b[0m\u001b[0m\n\u001b[1;32m    831\u001b[0m         \u001b[0mopt_args\u001b[0m\u001b[0;34m[\u001b[0m\u001b[0;34m'it'\u001b[0m\u001b[0;34m]\u001b[0m \u001b[0;34m=\u001b[0m \u001b[0mit\u001b[0m \u001b[0;34m+\u001b[0m \u001b[0;36m1\u001b[0m\u001b[0;34m\u001b[0m\u001b[0m\n\u001b[0;32m--> 832\u001b[0;31m         \u001b[0mparams\u001b[0m\u001b[0;34m,\u001b[0m \u001b[0merror\u001b[0m\u001b[0;34m,\u001b[0m \u001b[0mit\u001b[0m \u001b[0;34m=\u001b[0m \u001b[0m_gradient_descent\u001b[0m\u001b[0;34m(\u001b[0m\u001b[0mobj_func\u001b[0m\u001b[0;34m,\u001b[0m \u001b[0mparams\u001b[0m\u001b[0;34m,\u001b[0m \u001b[0;34m**\u001b[0m\u001b[0mopt_args\u001b[0m\u001b[0;34m)\u001b[0m\u001b[0;34m\u001b[0m\u001b[0m\n\u001b[0m\u001b[1;32m    833\u001b[0m         \u001b[0;32mif\u001b[0m \u001b[0mself\u001b[0m\u001b[0;34m.\u001b[0m\u001b[0mverbose\u001b[0m\u001b[0;34m:\u001b[0m\u001b[0;34m\u001b[0m\u001b[0m\n\u001b[1;32m    834\u001b[0m             print(\"[t-SNE] Error after %d iterations with early \"\n",
      "\u001b[0;32m/Users/Rolina/anaconda/lib/python2.7/site-packages/sklearn/manifold/t_sne.pyc\u001b[0m in \u001b[0;36m_gradient_descent\u001b[0;34m(objective, p0, it, n_iter, objective_error, n_iter_check, n_iter_without_progress, momentum, learning_rate, min_gain, min_grad_norm, min_error_diff, verbose, args, kwargs)\u001b[0m\n\u001b[1;32m    385\u001b[0m     \u001b[0;32mfor\u001b[0m \u001b[0mi\u001b[0m \u001b[0;32min\u001b[0m \u001b[0mrange\u001b[0m\u001b[0;34m(\u001b[0m\u001b[0mit\u001b[0m\u001b[0;34m,\u001b[0m \u001b[0mn_iter\u001b[0m\u001b[0;34m)\u001b[0m\u001b[0;34m:\u001b[0m\u001b[0;34m\u001b[0m\u001b[0m\n\u001b[1;32m    386\u001b[0m         \u001b[0mnew_error\u001b[0m\u001b[0;34m,\u001b[0m \u001b[0mgrad\u001b[0m \u001b[0;34m=\u001b[0m \u001b[0mobjective\u001b[0m\u001b[0;34m(\u001b[0m\u001b[0mp\u001b[0m\u001b[0;34m,\u001b[0m \u001b[0;34m*\u001b[0m\u001b[0margs\u001b[0m\u001b[0;34m,\u001b[0m \u001b[0;34m**\u001b[0m\u001b[0mkwargs\u001b[0m\u001b[0;34m)\u001b[0m\u001b[0;34m\u001b[0m\u001b[0m\n\u001b[0;32m--> 387\u001b[0;31m         \u001b[0mgrad_norm\u001b[0m \u001b[0;34m=\u001b[0m \u001b[0mlinalg\u001b[0m\u001b[0;34m.\u001b[0m\u001b[0mnorm\u001b[0m\u001b[0;34m(\u001b[0m\u001b[0mgrad\u001b[0m\u001b[0;34m)\u001b[0m\u001b[0;34m\u001b[0m\u001b[0m\n\u001b[0m\u001b[1;32m    388\u001b[0m \u001b[0;34m\u001b[0m\u001b[0m\n\u001b[1;32m    389\u001b[0m         \u001b[0minc\u001b[0m \u001b[0;34m=\u001b[0m \u001b[0mupdate\u001b[0m \u001b[0;34m*\u001b[0m \u001b[0mgrad\u001b[0m \u001b[0;34m>=\u001b[0m \u001b[0;36m0.0\u001b[0m\u001b[0;34m\u001b[0m\u001b[0m\n",
      "\u001b[0;32m/Users/Rolina/anaconda/lib/python2.7/site-packages/scipy/linalg/misc.pyc\u001b[0m in \u001b[0;36mnorm\u001b[0;34m(a, ord, axis, keepdims)\u001b[0m\n\u001b[1;32m    127\u001b[0m     \"\"\"\n\u001b[1;32m    128\u001b[0m     \u001b[0;31m# Differs from numpy only in non-finite handling and the use of blas.\u001b[0m\u001b[0;34m\u001b[0m\u001b[0;34m\u001b[0m\u001b[0m\n\u001b[0;32m--> 129\u001b[0;31m     \u001b[0ma\u001b[0m \u001b[0;34m=\u001b[0m \u001b[0mnp\u001b[0m\u001b[0;34m.\u001b[0m\u001b[0masarray_chkfinite\u001b[0m\u001b[0;34m(\u001b[0m\u001b[0ma\u001b[0m\u001b[0;34m)\u001b[0m\u001b[0;34m\u001b[0m\u001b[0m\n\u001b[0m\u001b[1;32m    130\u001b[0m \u001b[0;34m\u001b[0m\u001b[0m\n\u001b[1;32m    131\u001b[0m     \u001b[0;31m# Only use optimized norms if axis and keepdims are not specified.\u001b[0m\u001b[0;34m\u001b[0m\u001b[0;34m\u001b[0m\u001b[0m\n",
      "\u001b[0;32m/Users/Rolina/anaconda/lib/python2.7/site-packages/numpy/lib/function_base.pyc\u001b[0m in \u001b[0;36masarray_chkfinite\u001b[0;34m(a, dtype, order)\u001b[0m\n\u001b[1;32m   1020\u001b[0m \u001b[0;34m\u001b[0m\u001b[0m\n\u001b[1;32m   1021\u001b[0m     \u001b[0;34m>>\u001b[0m\u001b[0;34m>\u001b[0m \u001b[0ma\u001b[0m \u001b[0;34m=\u001b[0m \u001b[0;34m[\u001b[0m\u001b[0;36m1\u001b[0m\u001b[0;34m,\u001b[0m \u001b[0;36m2\u001b[0m\u001b[0;34m,\u001b[0m \u001b[0mnp\u001b[0m\u001b[0;34m.\u001b[0m\u001b[0minf\u001b[0m\u001b[0;34m]\u001b[0m\u001b[0;34m\u001b[0m\u001b[0m\n\u001b[0;32m-> 1022\u001b[0;31m     \u001b[0;34m>>\u001b[0m\u001b[0;34m>\u001b[0m \u001b[0;32mtry\u001b[0m\u001b[0;34m:\u001b[0m\u001b[0;34m\u001b[0m\u001b[0m\n\u001b[0m\u001b[1;32m   1023\u001b[0m     \u001b[0;34m.\u001b[0m\u001b[0;34m.\u001b[0m\u001b[0;34m.\u001b[0m     \u001b[0mnp\u001b[0m\u001b[0;34m.\u001b[0m\u001b[0masarray_chkfinite\u001b[0m\u001b[0;34m(\u001b[0m\u001b[0ma\u001b[0m\u001b[0;34m)\u001b[0m\u001b[0;34m\u001b[0m\u001b[0m\n\u001b[1;32m   1024\u001b[0m     \u001b[0;34m.\u001b[0m\u001b[0;34m.\u001b[0m\u001b[0;34m.\u001b[0m \u001b[0;32mexcept\u001b[0m \u001b[0mValueError\u001b[0m\u001b[0;34m:\u001b[0m\u001b[0;34m\u001b[0m\u001b[0m\n",
      "\u001b[0;31mValueError\u001b[0m: array must not contain infs or NaNs"
     ]
    }
   ],
   "source": [
    "num_points = 400\n",
    "\n",
    "tsne = TSNE(perplexity=30, n_components=2, init='pca', n_iter=5000)\n",
    "two_d_embeddings = tsne.fit_transform(final_embeddings[1:num_points+1, :])"
   ]
  },
  {
   "cell_type": "code",
   "execution_count": 68,
   "metadata": {
    "cellView": "both",
    "colab": {
     "autoexec": {
      "startup": false,
      "wait_interval": 0
     },
     "output_extras": [
      {
       "item_id": 1
      }
     ]
    },
    "colab_type": "code",
    "collapsed": false,
    "executionInfo": {
     "elapsed": 4763,
     "status": "ok",
     "timestamp": 1445965465525,
     "user": {
      "color": "#1FA15D",
      "displayName": "Vincent Vanhoucke",
      "isAnonymous": false,
      "isMe": true,
      "permissionId": "05076109866853157986",
      "photoUrl": "//lh6.googleusercontent.com/-cCJa7dTDcgQ/AAAAAAAAAAI/AAAAAAAACgw/r2EZ_8oYer4/s50-c-k-no/photo.jpg",
      "sessionId": "2f1ffade4c9f20de",
      "userId": "102167687554210253930"
     },
     "user_tz": 420
    },
    "id": "o_e0D_UezcDe",
    "outputId": "df22e4a5-e8ec-4e5e-d384-c6cf37c68c34"
   },
   "outputs": [
    {
     "ename": "NameError",
     "evalue": "name 'two_d_embeddings' is not defined",
     "output_type": "error",
     "traceback": [
      "\u001b[0;31m---------------------------------------------------------------------------\u001b[0m",
      "\u001b[0;31mNameError\u001b[0m                                 Traceback (most recent call last)",
      "\u001b[0;32m<ipython-input-68-60644b7b42e2>\u001b[0m in \u001b[0;36m<module>\u001b[0;34m()\u001b[0m\n\u001b[1;32m     10\u001b[0m \u001b[0;34m\u001b[0m\u001b[0m\n\u001b[1;32m     11\u001b[0m \u001b[0mwords\u001b[0m \u001b[0;34m=\u001b[0m \u001b[0;34m[\u001b[0m\u001b[0mreverse_dictionary\u001b[0m\u001b[0;34m[\u001b[0m\u001b[0mi\u001b[0m\u001b[0;34m]\u001b[0m \u001b[0;32mfor\u001b[0m \u001b[0mi\u001b[0m \u001b[0;32min\u001b[0m \u001b[0mrange\u001b[0m\u001b[0;34m(\u001b[0m\u001b[0;36m1\u001b[0m\u001b[0;34m,\u001b[0m \u001b[0mnum_points\u001b[0m\u001b[0;34m+\u001b[0m\u001b[0;36m1\u001b[0m\u001b[0;34m)\u001b[0m\u001b[0;34m]\u001b[0m\u001b[0;34m\u001b[0m\u001b[0m\n\u001b[0;32m---> 12\u001b[0;31m \u001b[0mplot\u001b[0m\u001b[0;34m(\u001b[0m\u001b[0mtwo_d_embeddings\u001b[0m\u001b[0;34m,\u001b[0m \u001b[0mwords\u001b[0m\u001b[0;34m)\u001b[0m\u001b[0;34m\u001b[0m\u001b[0m\n\u001b[0m",
      "\u001b[0;31mNameError\u001b[0m: name 'two_d_embeddings' is not defined"
     ]
    }
   ],
   "source": [
    "def plot(embeddings, labels):\n",
    "  assert embeddings.shape[0] >= len(labels), 'More labels than embeddings'\n",
    "  pylab.figure(figsize=(15,15))  # in inches\n",
    "  for i, label in enumerate(labels):\n",
    "    x, y = embeddings[i,:]\n",
    "    pylab.scatter(x, y)\n",
    "    pylab.annotate(label, xy=(x, y), xytext=(5, 2), textcoords='offset points',\n",
    "                   ha='right', va='bottom')\n",
    "  pylab.show()\n",
    "\n",
    "words = [reverse_dictionary[i] for i in range(1, num_points+1)]\n",
    "plot(two_d_embeddings, words)"
   ]
  },
  {
   "cell_type": "markdown",
   "metadata": {
    "colab_type": "text",
    "id": "QB5EFrBnpNnc"
   },
   "source": [
    "---\n",
    "\n",
    "Problem\n",
    "-------\n",
    "\n",
    "An alternative to skip-gram is another Word2Vec model called [CBOW](http://arxiv.org/abs/1301.3781) (Continuous Bag of Words). In the CBOW model, instead of predicting a context word from a word vector, you predict a word from the sum of all the word vectors in its context. Implement and evaluate a CBOW model trained on the text8 dataset.\n",
    "\n",
    "---"
   ]
  },
  {
   "cell_type": "code",
   "execution_count": 105,
   "metadata": {
    "collapsed": false
   },
   "outputs": [
    {
     "name": "stdout",
     "output_type": "stream",
     "text": [
      "data: ['anarchism', 'originated', 'as', 'a', 'term', 'of', 'abuse', 'first']\n",
      "\n",
      "with skip_window = 1:\n",
      "    batch: [['anarchism', 'as'], ['originated', 'a'], ['as', 'term'], ['a', 'of'], ['term', 'abuse'], ['of', 'first'], ['abuse', 'used'], ['first', 'against']]\n",
      "    labels: ['originated', 'as', 'a', 'term', 'of', 'abuse', 'first', 'used']\n",
      "\n",
      "with skip_window = 4:\n",
      "    batch: [['anarchism', 'originated', 'as', 'a', 'of', 'abuse', 'first', 'used'], ['originated', 'as', 'a', 'term', 'abuse', 'first', 'used', 'against'], ['as', 'a', 'term', 'of', 'first', 'used', 'against', 'early'], ['a', 'term', 'of', 'abuse', 'used', 'against', 'early', 'working'], ['term', 'of', 'abuse', 'first', 'against', 'early', 'working', 'class'], ['of', 'abuse', 'first', 'used', 'early', 'working', 'class', 'radicals'], ['abuse', 'first', 'used', 'against', 'working', 'class', 'radicals', 'including'], ['first', 'used', 'against', 'early', 'class', 'radicals', 'including', 'the']]\n",
      "    labels: ['term', 'of', 'abuse', 'first', 'used', 'against', 'early', 'working']\n",
      "\n",
      "with skip_window = 2:\n",
      "    batch: [['anarchism', 'originated', 'a', 'term'], ['originated', 'as', 'term', 'of'], ['as', 'a', 'of', 'abuse'], ['a', 'term', 'abuse', 'first'], ['term', 'of', 'first', 'used'], ['of', 'abuse', 'used', 'against'], ['abuse', 'first', 'against', 'early'], ['first', 'used', 'early', 'working']]\n",
      "    labels: ['as', 'a', 'term', 'of', 'abuse', 'first', 'used', 'against']\n"
     ]
    }
   ],
   "source": [
    "data_index = 0\n",
    "\n",
    "def generate_batch(batch_size, skip_window):\n",
    "  global data_index\n",
    "  assert batch_size % num_skips == 0\n",
    "  assert num_skips <= 2 * skip_window\n",
    "  labels = np.ndarray(shape=(batch_size, 1), dtype=np.int32)\n",
    "  span = 2 * skip_window + 1 # [ skip_window target skip_window ]\n",
    "  batch = np.ndarray(shape=(batch_size, span-1), dtype=np.int32)\n",
    "  buffer = collections.deque(maxlen=span) #create a deque\n",
    "  for _ in range(span): \n",
    "    buffer.append(data[data_index]) #add span amount of first few words \n",
    "    data_index = (data_index + 1) % len(data) #iterate back if overflow\n",
    "  for i in range(batch_size): #how many set of windows\n",
    "    target = skip_window  # target label at the center of the buffer\n",
    "    \n",
    "    context = [buffer[ind] for ind in range(len(buffer)) if ind != target]\n",
    "    #print(buffer)\n",
    "    #print(context)\n",
    "    batch[i] = context #the real index\n",
    "    #print(batch)\n",
    "    labels[i] = buffer[target]\n",
    "    buffer.append(data[data_index])#automatically take out the first word\n",
    "    #imagine this is the window, its keeping the window sliding\n",
    "    data_index = (data_index + 1) % len(data)\n",
    "    #represent index of next word to append\n",
    "    \n",
    "  return batch, labels\n",
    "\n",
    "print('data:', [reverse_dictionary[di] for di in data[:8]])\n",
    "\n",
    "for skip_window in [1,4,2]:\n",
    "    data_index = 0\n",
    "    batch, labels = generate_batch(batch_size=8,  skip_window=skip_window)\n",
    "    print('\\nwith skip_window = %d:' % ( skip_window))\n",
    "    #print(batch)\n",
    "    print('    batch:', [map(lambda bi: reverse_dictionary[bi], context)  for context in batch])\n",
    "    print('    labels:', [reverse_dictionary[li] for li in labels.reshape(8)])"
   ]
  },
  {
   "cell_type": "markdown",
   "metadata": {},
   "source": [
    "## CBOW Model\n",
    "\n",
    "In the CBOW model, instead of predicting a context word from a word vector, you predict a word from the sum of all the word vectors in its context."
   ]
  },
  {
   "cell_type": "code",
   "execution_count": 123,
   "metadata": {
    "collapsed": false
   },
   "outputs": [],
   "source": [
    "batch_size = 128\n",
    "embedding_size = 128 # Dimension of the embedding vector.\n",
    "skip_window = 4 # How many words to consider left and right.\n",
    "num_skips = 2 # How many times to reuse an input to generate a label.\n",
    "# We pick a random validation set to sample nearest neighbors. here we limit the\n",
    "# validation samples to the words that have a low numeric ID, which by\n",
    "# construction are also the most frequent. \n",
    "valid_size = 16 # Random set of words to evaluate similarity on.\n",
    "valid_window = 100 # Only pick dev samples in the head of the distribution.\n",
    "valid_examples = np.array(random.sample(range(valid_window), valid_size))\n",
    "num_sampled = 64 # Number of negative examples to sample.\n",
    "\n",
    "vocabulary_size = 50000\n",
    "\n",
    "graph = tf.Graph()\n",
    "\n",
    "with graph.as_default(), tf.device('/cpu:0'):\n",
    "\n",
    "  # Input data.\n",
    "  train_dataset = tf.placeholder(tf.int32, shape=[batch_size, 2*skip_window])\n",
    "  train_labels = tf.placeholder(tf.int32, shape=[batch_size, 1])\n",
    "  valid_dataset = tf.constant(valid_examples, dtype=tf.int32)\n",
    "  \n",
    "  # Variables.\n",
    "  embeddings = tf.Variable(\n",
    "    tf.random_uniform([vocabulary_size, embedding_size], -1.0, 1.0))\n",
    "  softmax_weights = tf.Variable(\n",
    "    tf.truncated_normal([vocabulary_size, embedding_size],\n",
    "                         stddev=1.0 / math.sqrt(embedding_size)))\n",
    "  softmax_biases = tf.Variable(tf.zeros([vocabulary_size]))\n",
    "  \n",
    "  # Model.\n",
    "  # Look up embeddings for inputs.\n",
    "  # predict a word from the sum of all the word vectors in its context\n",
    "  sum_train_dataset = tf.reduce_sum(train_dataset, 1)/vocabulary_size #reduce by row\n",
    "  embed = tf.nn.embedding_lookup(embeddings, sum_train_dataset)\n",
    "  # Compute the softmax loss, using a sample of the negative labels each time.\n",
    "  loss = tf.reduce_mean(\n",
    "    tf.nn.sampled_softmax_loss(softmax_weights, softmax_biases, embed,\n",
    "                               train_labels, num_sampled, vocabulary_size ))\n",
    "\n",
    "  # Optimizer.\n",
    "  # Note: The optimizer will optimize the softmax_weights AND the embeddings.\n",
    "  # This is because the embeddings are defined as a variable quantity and the\n",
    "  # optimizer's `minimize` method will by default modify all variable quantities \n",
    "  # that contribute to the tensor it is passed.\n",
    "  # See docs on `tf.train.Optimizer.minimize()` for more details.\n",
    "  optimizer = tf.train.AdagradOptimizer(1.0).minimize(loss)\n",
    "  \n",
    "  # Compute the similarity between minibatch examples and all embeddings.\n",
    "  # We use the cosine distance:\n",
    "  norm = tf.sqrt(tf.reduce_sum(tf.square(embeddings), 1, keep_dims=True))\n",
    "  normalized_embeddings = embeddings / norm\n",
    "  valid_embeddings = tf.nn.embedding_lookup(\n",
    "    normalized_embeddings, valid_dataset)\n",
    "  similarity = tf.matmul(valid_embeddings, tf.transpose(normalized_embeddings))"
   ]
  },
  {
   "cell_type": "code",
   "execution_count": 124,
   "metadata": {
    "collapsed": false
   },
   "outputs": [
    {
     "name": "stdout",
     "output_type": "stream",
     "text": [
      "Initialized\n",
      "Average loss at step 0: 8.235164\n",
      "Nearest to if: pxe, defensive, peer, turpin, interventionist, aces, hor, columnist,\n",
      "Nearest to these: mein, ravi, hibiscus, nevada, dost, riddler, sih, growers,\n",
      "Nearest to are: mickey, seu, brewing, henotheistic, gravitationally, polyurethane, katharina, worms,\n",
      "Nearest to there: irma, brakeman, rangers, thirsty, manus, highland, hindsight, catching,\n",
      "Nearest to is: belzec, josiah, undecidability, powders, popular, length, mnism, biochemist,\n",
      "Nearest to have: beano, kindergarten, sewers, demetrius, burger, cubes, phimosis, heinkel,\n",
      "Nearest to i: posteriori, leeward, du, airplay, erica, tylor, lesh, fundamentalists,\n",
      "Nearest to with: masterpieces, lent, casanova, ulrike, prefers, bijapur, criticising, atzeret,\n",
      "Nearest to two: inside, trinomial, tes, tory, slug, riviera, intuitive, secreting,\n",
      "Nearest to after: filthy, motivated, inadequately, girdle, zionists, gcc, tremors, understood,\n",
      "Nearest to at: ksr, balcony, proportionally, arabia, transuranic, reservoirs, acc, galatea,\n",
      "Nearest to would: ramos, supercar, automaker, telstar, counterparts, publishes, xiii, rewriting,\n",
      "Nearest to new: constructing, bullet, babcock, station, biomolecules, nightmarish, renoir, safeguard,\n",
      "Nearest to and: propellants, synchronisation, wabash, shebaa, medicare, chippewa, mahayana, mobs,\n",
      "Nearest to than: bbc, hampden, siege, ottonian, trojan, stiller, nukem, strangely,\n",
      "Nearest to up: hwi, gell, mandriva, krzysztof, gonna, foote, emphasizing, mossad,\n",
      "Average loss at step 2000: 8.362178\n",
      "Average loss at step 4000: 4.236745\n",
      "Average loss at step 6000: 4.095608\n",
      "Average loss at step 8000: 3.966001\n",
      "Average loss at step 10000: 4.012188\n",
      "Nearest to if: pxe, defensive, peer, turpin, interventionist, aces, hor, columnist,\n",
      "Nearest to these: mein, ravi, hibiscus, nevada, dost, riddler, sih, growers,\n",
      "Nearest to are: mickey, seu, brewing, henotheistic, gravitationally, polyurethane, katharina, worms,\n",
      "Nearest to there: irma, brakeman, rangers, thirsty, manus, highland, hindsight, catching,\n",
      "Nearest to is: belzec, josiah, undecidability, powders, popular, length, mnism, biochemist,\n",
      "Nearest to have: beano, kindergarten, sewers, demetrius, burger, cubes, phimosis, heinkel,\n",
      "Nearest to i: posteriori, leeward, du, airplay, erica, tylor, lesh, fundamentalists,\n",
      "Nearest to with: masterpieces, lent, casanova, ulrike, prefers, bijapur, criticising, atzeret,\n",
      "Nearest to two: inside, trinomial, tes, tory, slug, riviera, intuitive, secreting,\n",
      "Nearest to after: filthy, motivated, inadequately, girdle, zionists, gcc, tremors, understood,\n",
      "Nearest to at: ksr, balcony, proportionally, arabia, transuranic, reservoirs, acc, galatea,\n",
      "Nearest to would: ramos, supercar, automaker, telstar, counterparts, publishes, xiii, rewriting,\n",
      "Nearest to new: constructing, bullet, babcock, station, biomolecules, nightmarish, renoir, safeguard,\n",
      "Nearest to and: synchronisation, of, bocce, wabash, remixes, teodoro, turin, normally,\n",
      "Nearest to than: bbc, hampden, siege, ottonian, trojan, stiller, nukem, strangely,\n",
      "Nearest to up: hwi, gell, mandriva, krzysztof, gonna, foote, emphasizing, mossad,\n",
      "Average loss at step 12000: 3.982636\n",
      "Average loss at step 14000: 3.975473\n",
      "Average loss at step 16000: 4.009361\n",
      "Average loss at step 18000: 3.963591\n",
      "Average loss at step 20000: 3.950444\n",
      "Nearest to if: pxe, defensive, peer, turpin, interventionist, aces, hor, columnist,\n",
      "Nearest to these: mein, ravi, hibiscus, nevada, dost, riddler, sih, growers,\n",
      "Nearest to are: mickey, seu, brewing, henotheistic, gravitationally, polyurethane, katharina, worms,\n",
      "Nearest to there: irma, brakeman, rangers, thirsty, manus, highland, hindsight, catching,\n",
      "Nearest to is: belzec, josiah, undecidability, powders, popular, length, mnism, biochemist,\n",
      "Nearest to have: beano, kindergarten, sewers, demetrius, burger, cubes, phimosis, heinkel,\n",
      "Nearest to i: posteriori, leeward, du, airplay, erica, tylor, lesh, fundamentalists,\n",
      "Nearest to with: masterpieces, lent, casanova, ulrike, prefers, bijapur, criticising, atzeret,\n",
      "Nearest to two: inside, trinomial, tes, tory, slug, riviera, intuitive, secreting,\n",
      "Nearest to after: filthy, motivated, inadequately, girdle, zionists, gcc, tremors, understood,\n",
      "Nearest to at: ksr, balcony, proportionally, arabia, transuranic, reservoirs, acc, galatea,\n",
      "Nearest to would: ramos, supercar, automaker, telstar, counterparts, publishes, xiii, rewriting,\n",
      "Nearest to new: constructing, bullet, babcock, station, biomolecules, nightmarish, renoir, safeguard,\n",
      "Nearest to and: of, bocce, wabash, remixes, crust, turin, subseteq, synchronisation,\n",
      "Nearest to than: bbc, hampden, siege, ottonian, trojan, stiller, nukem, strangely,\n",
      "Nearest to up: hwi, gell, mandriva, krzysztof, gonna, foote, emphasizing, mossad,\n",
      "Average loss at step 22000: 3.970345\n",
      "Average loss at step 24000: 3.921085\n",
      "Average loss at step 26000: 3.954469\n",
      "Average loss at step 28000: 3.987645\n",
      "Average loss at step 30000: 3.937310\n",
      "Nearest to if: pxe, defensive, peer, turpin, interventionist, aces, hor, columnist,\n",
      "Nearest to these: mein, ravi, hibiscus, nevada, dost, riddler, sih, growers,\n",
      "Nearest to are: mickey, seu, brewing, henotheistic, gravitationally, polyurethane, katharina, worms,\n",
      "Nearest to there: irma, brakeman, rangers, thirsty, manus, highland, hindsight, catching,\n",
      "Nearest to is: belzec, josiah, undecidability, powders, popular, length, mnism, biochemist,\n",
      "Nearest to have: beano, kindergarten, sewers, demetrius, burger, cubes, phimosis, heinkel,\n",
      "Nearest to i: posteriori, leeward, du, airplay, erica, tylor, lesh, fundamentalists,\n",
      "Nearest to with: masterpieces, lent, casanova, ulrike, prefers, bijapur, criticising, atzeret,\n",
      "Nearest to two: inside, trinomial, tes, tory, slug, riviera, intuitive, secreting,\n",
      "Nearest to after: filthy, motivated, inadequately, girdle, zionists, gcc, tremors, understood,\n",
      "Nearest to at: ksr, balcony, proportionally, arabia, transuranic, reservoirs, acc, galatea,\n",
      "Nearest to would: ramos, supercar, automaker, telstar, counterparts, publishes, xiii, rewriting,\n",
      "Nearest to new: constructing, bullet, babcock, station, biomolecules, nightmarish, renoir, safeguard,\n",
      "Nearest to and: of, wabash, subseteq, remixes, prepare, turin, bolstering, bocce,\n",
      "Nearest to than: bbc, hampden, siege, ottonian, trojan, stiller, nukem, strangely,\n",
      "Nearest to up: hwi, gell, mandriva, krzysztof, gonna, foote, emphasizing, mossad,\n",
      "Average loss at step 32000: 3.919733\n",
      "Average loss at step 34000: 3.936347\n",
      "Average loss at step 36000: 3.959734\n",
      "Average loss at step 38000: 3.888785\n",
      "Average loss at step 40000: 3.967537\n",
      "Nearest to if: pxe, defensive, peer, turpin, interventionist, aces, hor, columnist,\n",
      "Nearest to these: mein, ravi, hibiscus, nevada, dost, riddler, sih, growers,\n",
      "Nearest to are: mickey, seu, brewing, henotheistic, gravitationally, polyurethane, katharina, worms,\n",
      "Nearest to there: irma, brakeman, rangers, thirsty, manus, highland, hindsight, catching,\n",
      "Nearest to is: belzec, josiah, undecidability, powders, popular, length, mnism, biochemist,\n",
      "Nearest to have: beano, kindergarten, sewers, demetrius, burger, cubes, phimosis, heinkel,\n",
      "Nearest to i: posteriori, leeward, du, airplay, erica, tylor, lesh, fundamentalists,\n",
      "Nearest to with: masterpieces, lent, casanova, ulrike, prefers, bijapur, criticising, atzeret,\n",
      "Nearest to two: inside, trinomial, tes, tory, slug, riviera, intuitive, secreting,\n",
      "Nearest to after: filthy, motivated, inadequately, girdle, zionists, gcc, tremors, understood,\n",
      "Nearest to at: ksr, balcony, proportionally, arabia, transuranic, reservoirs, acc, galatea,\n",
      "Nearest to would: ramos, supercar, automaker, telstar, counterparts, publishes, xiii, rewriting,\n",
      "Nearest to new: constructing, bullet, babcock, station, biomolecules, nightmarish, renoir, safeguard,\n",
      "Nearest to and: of, the, deliberative, wabash, subseteq, prepare, thessaloniki, shebaa,\n",
      "Nearest to than: bbc, hampden, siege, ottonian, trojan, stiller, nukem, strangely,\n",
      "Nearest to up: hwi, gell, mandriva, krzysztof, gonna, foote, emphasizing, mossad,\n",
      "Average loss at step 42000: 3.971159\n",
      "Average loss at step 44000: 3.955594\n",
      "Average loss at step 46000: 3.931118\n",
      "Average loss at step 48000: 3.918333\n",
      "Average loss at step 50000: 3.955595\n",
      "Nearest to if: pxe, defensive, peer, turpin, interventionist, aces, hor, columnist,\n",
      "Nearest to these: mein, ravi, hibiscus, nevada, dost, riddler, sih, growers,\n",
      "Nearest to are: mickey, seu, brewing, henotheistic, gravitationally, polyurethane, katharina, worms,\n",
      "Nearest to there: irma, brakeman, rangers, thirsty, manus, highland, hindsight, catching,\n",
      "Nearest to is: belzec, josiah, undecidability, powders, popular, length, mnism, biochemist,\n",
      "Nearest to have: beano, kindergarten, sewers, demetrius, burger, cubes, phimosis, heinkel,\n",
      "Nearest to i: posteriori, leeward, du, airplay, erica, tylor, lesh, fundamentalists,\n",
      "Nearest to with: masterpieces, lent, casanova, ulrike, prefers, bijapur, criticising, atzeret,\n",
      "Nearest to two: inside, trinomial, tes, tory, slug, riviera, intuitive, secreting,\n",
      "Nearest to after: filthy, motivated, inadequately, girdle, zionists, gcc, tremors, understood,\n",
      "Nearest to at: ksr, balcony, proportionally, arabia, transuranic, reservoirs, acc, galatea,\n",
      "Nearest to would: ramos, supercar, automaker, telstar, counterparts, publishes, xiii, rewriting,\n",
      "Nearest to new: constructing, bullet, babcock, station, biomolecules, nightmarish, renoir, safeguard,\n",
      "Nearest to and: of, the, shebaa, thessaloniki, turin, normally, subseteq, tex,\n",
      "Nearest to than: bbc, hampden, siege, ottonian, trojan, stiller, nukem, strangely,\n",
      "Nearest to up: hwi, gell, mandriva, krzysztof, gonna, foote, emphasizing, mossad,\n",
      "Average loss at step 52000: 3.956999\n",
      "Average loss at step 54000: 3.898375\n",
      "Average loss at step 56000: 3.941131\n",
      "Average loss at step 58000: 3.969376\n",
      "Average loss at step 60000: 3.940946\n",
      "Nearest to if: pxe, defensive, peer, turpin, interventionist, aces, hor, columnist,\n",
      "Nearest to these: mein, ravi, hibiscus, nevada, dost, riddler, sih, growers,\n",
      "Nearest to are: mickey, seu, brewing, henotheistic, gravitationally, polyurethane, katharina, worms,\n",
      "Nearest to there: irma, brakeman, rangers, thirsty, manus, highland, hindsight, catching,\n",
      "Nearest to is: belzec, josiah, undecidability, powders, popular, length, mnism, biochemist,\n",
      "Nearest to have: beano, kindergarten, sewers, demetrius, burger, cubes, phimosis, heinkel,\n",
      "Nearest to i: posteriori, leeward, du, airplay, erica, tylor, lesh, fundamentalists,\n",
      "Nearest to with: masterpieces, lent, casanova, ulrike, prefers, bijapur, criticising, atzeret,\n",
      "Nearest to two: inside, trinomial, tes, tory, slug, riviera, intuitive, secreting,\n",
      "Nearest to after: filthy, motivated, inadequately, girdle, zionists, gcc, tremors, understood,\n",
      "Nearest to at: ksr, balcony, proportionally, arabia, transuranic, reservoirs, acc, galatea,\n",
      "Nearest to would: ramos, supercar, automaker, telstar, counterparts, publishes, xiii, rewriting,\n",
      "Nearest to new: constructing, bullet, babcock, station, biomolecules, nightmarish, renoir, safeguard,\n",
      "Nearest to and: of, the, one, turin, shebaa, thessaloniki, wheelbase, scarborough,\n",
      "Nearest to than: bbc, hampden, siege, ottonian, trojan, stiller, nukem, strangely,\n",
      "Nearest to up: hwi, gell, mandriva, krzysztof, gonna, foote, emphasizing, mossad,\n",
      "Average loss at step 62000: 3.899574\n",
      "Average loss at step 64000: 3.913809\n",
      "Average loss at step 66000: 3.844379\n",
      "Average loss at step 68000: 3.945594\n",
      "Average loss at step 70000: 3.920125\n",
      "Nearest to if: pxe, defensive, peer, turpin, interventionist, aces, hor, columnist,\n",
      "Nearest to these: mein, ravi, hibiscus, nevada, dost, riddler, sih, growers,\n",
      "Nearest to are: mickey, seu, brewing, henotheistic, gravitationally, polyurethane, katharina, worms,\n",
      "Nearest to there: irma, brakeman, rangers, thirsty, manus, highland, hindsight, catching,\n",
      "Nearest to is: belzec, josiah, undecidability, powders, popular, length, mnism, biochemist,\n",
      "Nearest to have: beano, kindergarten, sewers, demetrius, burger, cubes, phimosis, heinkel,\n",
      "Nearest to i: posteriori, leeward, du, airplay, erica, tylor, lesh, fundamentalists,\n",
      "Nearest to with: masterpieces, lent, casanova, ulrike, prefers, bijapur, criticising, atzeret,\n",
      "Nearest to two: inside, trinomial, tes, tory, slug, riviera, intuitive, secreting,\n",
      "Nearest to after: filthy, motivated, inadequately, girdle, zionists, gcc, tremors, understood,\n",
      "Nearest to at: ksr, balcony, proportionally, arabia, transuranic, reservoirs, acc, galatea,\n",
      "Nearest to would: ramos, supercar, automaker, telstar, counterparts, publishes, xiii, rewriting,\n",
      "Nearest to new: constructing, bullet, babcock, station, biomolecules, nightmarish, renoir, safeguard,\n",
      "Nearest to and: of, one, the, shebaa, thessaloniki, scarborough, wheelbase, tex,\n",
      "Nearest to than: bbc, hampden, siege, ottonian, trojan, stiller, nukem, strangely,\n",
      "Nearest to up: hwi, gell, mandriva, krzysztof, gonna, foote, emphasizing, mossad,\n",
      "Average loss at step 72000: 3.898062\n",
      "Average loss at step 74000: 3.961628\n",
      "Average loss at step 76000: 3.966180\n",
      "Average loss at step 78000: 3.902191\n",
      "Average loss at step 80000: 3.937371\n",
      "Nearest to if: pxe, defensive, peer, turpin, interventionist, aces, hor, columnist,\n",
      "Nearest to these: mein, ravi, hibiscus, nevada, dost, riddler, sih, growers,\n",
      "Nearest to are: mickey, seu, brewing, henotheistic, gravitationally, polyurethane, katharina, worms,\n",
      "Nearest to there: irma, brakeman, rangers, thirsty, manus, highland, hindsight, catching,\n",
      "Nearest to is: belzec, josiah, undecidability, powders, popular, length, mnism, biochemist,\n",
      "Nearest to have: beano, kindergarten, sewers, demetrius, burger, cubes, phimosis, heinkel,\n",
      "Nearest to i: posteriori, leeward, du, airplay, erica, tylor, lesh, fundamentalists,\n",
      "Nearest to with: masterpieces, lent, casanova, ulrike, prefers, bijapur, criticising, atzeret,\n",
      "Nearest to two: inside, trinomial, tes, tory, slug, riviera, intuitive, secreting,\n",
      "Nearest to after: filthy, motivated, inadequately, girdle, zionists, gcc, tremors, understood,\n",
      "Nearest to at: ksr, balcony, proportionally, arabia, transuranic, reservoirs, acc, galatea,\n",
      "Nearest to would: ramos, supercar, automaker, telstar, counterparts, publishes, xiii, rewriting,\n",
      "Nearest to new: constructing, bullet, babcock, station, biomolecules, nightmarish, renoir, safeguard,\n",
      "Nearest to and: of, the, one, thessaloniki, shebaa, pomorza, durians, scarborough,\n",
      "Nearest to than: bbc, hampden, siege, ottonian, trojan, stiller, nukem, strangely,\n",
      "Nearest to up: hwi, gell, mandriva, krzysztof, gonna, foote, emphasizing, mossad,\n",
      "Average loss at step 82000: 3.912835\n",
      "Average loss at step 84000: 3.961896\n",
      "Average loss at step 86000: 3.943219\n",
      "Average loss at step 88000: 3.892251\n",
      "Average loss at step 90000: 3.901289\n",
      "Nearest to if: pxe, defensive, peer, turpin, interventionist, aces, hor, columnist,\n",
      "Nearest to these: mein, ravi, hibiscus, nevada, dost, riddler, sih, growers,\n",
      "Nearest to are: mickey, seu, brewing, henotheistic, gravitationally, polyurethane, katharina, worms,\n",
      "Nearest to there: irma, brakeman, rangers, thirsty, manus, highland, hindsight, catching,\n",
      "Nearest to is: belzec, josiah, undecidability, powders, popular, length, mnism, biochemist,\n",
      "Nearest to have: beano, kindergarten, sewers, demetrius, burger, cubes, phimosis, heinkel,\n",
      "Nearest to i: posteriori, leeward, du, airplay, erica, tylor, lesh, fundamentalists,\n",
      "Nearest to with: masterpieces, lent, casanova, ulrike, prefers, bijapur, criticising, atzeret,\n",
      "Nearest to two: inside, trinomial, tes, tory, slug, riviera, intuitive, secreting,\n",
      "Nearest to after: filthy, motivated, inadequately, girdle, zionists, gcc, tremors, understood,\n",
      "Nearest to at: ksr, balcony, proportionally, arabia, transuranic, reservoirs, acc, galatea,\n",
      "Nearest to would: ramos, supercar, automaker, telstar, counterparts, publishes, xiii, rewriting,\n",
      "Nearest to new: constructing, bullet, babcock, station, biomolecules, nightmarish, renoir, safeguard,\n",
      "Nearest to and: of, the, one, thessaloniki, tex, interventionist, shebaa, durians,\n",
      "Nearest to than: bbc, hampden, siege, ottonian, trojan, stiller, nukem, strangely,\n",
      "Nearest to up: hwi, gell, mandriva, krzysztof, gonna, foote, emphasizing, mossad,\n",
      "Average loss at step 92000: 3.923321\n",
      "Average loss at step 94000: 3.706680\n",
      "Average loss at step 96000: 3.789444\n",
      "Average loss at step 98000: 3.911065\n",
      "Average loss at step 100000: 3.894950\n",
      "Nearest to if: pxe, defensive, peer, turpin, interventionist, aces, hor, columnist,\n",
      "Nearest to these: mein, ravi, hibiscus, nevada, dost, riddler, sih, growers,\n",
      "Nearest to are: mickey, seu, brewing, henotheistic, gravitationally, polyurethane, katharina, worms,\n",
      "Nearest to there: irma, brakeman, rangers, thirsty, manus, highland, hindsight, catching,\n",
      "Nearest to is: belzec, josiah, undecidability, powders, popular, length, mnism, biochemist,\n",
      "Nearest to have: beano, kindergarten, sewers, demetrius, burger, cubes, phimosis, heinkel,\n",
      "Nearest to i: posteriori, leeward, du, airplay, erica, tylor, lesh, fundamentalists,\n",
      "Nearest to with: masterpieces, lent, casanova, ulrike, prefers, bijapur, criticising, atzeret,\n",
      "Nearest to two: inside, trinomial, tes, tory, slug, riviera, intuitive, secreting,\n",
      "Nearest to after: filthy, motivated, inadequately, girdle, zionists, gcc, tremors, understood,\n",
      "Nearest to at: ksr, balcony, proportionally, arabia, transuranic, reservoirs, acc, galatea,\n",
      "Nearest to would: ramos, supercar, automaker, telstar, counterparts, publishes, xiii, rewriting,\n",
      "Nearest to new: constructing, bullet, babcock, station, biomolecules, nightmarish, renoir, safeguard,\n",
      "Nearest to and: of, one, the, tex, thessaloniki, resent, subseteq, shebaa,\n",
      "Nearest to than: bbc, hampden, siege, ottonian, trojan, stiller, nukem, strangely,\n",
      "Nearest to up: hwi, gell, mandriva, krzysztof, gonna, foote, emphasizing, mossad,\n"
     ]
    }
   ],
   "source": [
    "num_steps = 100001\n",
    "\n",
    "with tf.Session(graph=graph) as session:\n",
    "  tf.initialize_all_variables().run()\n",
    "  print('Initialized')\n",
    "  average_loss = 0\n",
    "  for step in range(num_steps):\n",
    "    batch_data, batch_labels = generate_batch(\n",
    "      batch_size, skip_window)\n",
    "    feed_dict = {train_dataset : batch_data, train_labels : batch_labels}\n",
    "    _, l = session.run([optimizer, loss], feed_dict=feed_dict)\n",
    "    average_loss += l\n",
    "    if step % 2000 == 0:\n",
    "      if step > 0:\n",
    "        average_loss = average_loss / 2000\n",
    "      # The average loss is an estimate of the loss over the last 2000 batches.\n",
    "      print('Average loss at step %d: %f' % (step, average_loss))\n",
    "      average_loss = 0\n",
    "    # note that this is expensive (~20% slowdown if computed every 500 steps)\n",
    "    if step % 10000 == 0:\n",
    "      sim = similarity.eval()\n",
    "      for i in range(valid_size):\n",
    "        valid_word = reverse_dictionary[valid_examples[i]]\n",
    "        top_k = 8 # number of nearest neighbors\n",
    "        nearest = (-sim[i, :]).argsort()[1:top_k+1]\n",
    "        log = 'Nearest to %s:' % valid_word\n",
    "        for k in range(top_k):\n",
    "          close_word = reverse_dictionary[nearest[k]]\n",
    "          log = '%s %s,' % (log, close_word)\n",
    "        print(log)\n",
    "  final_embeddings = normalized_embeddings.eval()"
   ]
  },
  {
   "cell_type": "code",
   "execution_count": 125,
   "metadata": {
    "collapsed": false
   },
   "outputs": [
    {
     "ename": "ValueError",
     "evalue": "array must not contain infs or NaNs",
     "output_type": "error",
     "traceback": [
      "\u001b[0;31m---------------------------------------------------------------------------\u001b[0m",
      "\u001b[0;31mValueError\u001b[0m                                Traceback (most recent call last)",
      "\u001b[0;32m<ipython-input-125-f70c03698d67>\u001b[0m in \u001b[0;36m<module>\u001b[0;34m()\u001b[0m\n\u001b[1;32m      2\u001b[0m \u001b[0;34m\u001b[0m\u001b[0m\n\u001b[1;32m      3\u001b[0m \u001b[0mtsne\u001b[0m \u001b[0;34m=\u001b[0m \u001b[0mTSNE\u001b[0m\u001b[0;34m(\u001b[0m\u001b[0mperplexity\u001b[0m\u001b[0;34m=\u001b[0m\u001b[0;36m30\u001b[0m\u001b[0;34m,\u001b[0m \u001b[0mn_components\u001b[0m\u001b[0;34m=\u001b[0m\u001b[0;36m2\u001b[0m\u001b[0;34m,\u001b[0m \u001b[0minit\u001b[0m\u001b[0;34m=\u001b[0m\u001b[0;34m'pca'\u001b[0m\u001b[0;34m,\u001b[0m \u001b[0mn_iter\u001b[0m\u001b[0;34m=\u001b[0m\u001b[0;36m5000\u001b[0m\u001b[0;34m)\u001b[0m\u001b[0;34m\u001b[0m\u001b[0m\n\u001b[0;32m----> 4\u001b[0;31m \u001b[0mtwo_d_embeddings\u001b[0m \u001b[0;34m=\u001b[0m \u001b[0mtsne\u001b[0m\u001b[0;34m.\u001b[0m\u001b[0mfit_transform\u001b[0m\u001b[0;34m(\u001b[0m\u001b[0mfinal_embeddings\u001b[0m\u001b[0;34m[\u001b[0m\u001b[0;36m1\u001b[0m\u001b[0;34m:\u001b[0m\u001b[0mnum_points\u001b[0m\u001b[0;34m+\u001b[0m\u001b[0;36m1\u001b[0m\u001b[0;34m,\u001b[0m \u001b[0;34m:\u001b[0m\u001b[0;34m]\u001b[0m\u001b[0;34m)\u001b[0m\u001b[0;34m\u001b[0m\u001b[0m\n\u001b[0m",
      "\u001b[0;32m/Users/Rolina/anaconda/lib/python2.7/site-packages/sklearn/manifold/t_sne.pyc\u001b[0m in \u001b[0;36mfit_transform\u001b[0;34m(self, X, y)\u001b[0m\n\u001b[1;32m    864\u001b[0m             \u001b[0mEmbedding\u001b[0m \u001b[0mof\u001b[0m \u001b[0mthe\u001b[0m \u001b[0mtraining\u001b[0m \u001b[0mdata\u001b[0m \u001b[0;32min\u001b[0m \u001b[0mlow\u001b[0m\u001b[0;34m-\u001b[0m\u001b[0mdimensional\u001b[0m \u001b[0mspace\u001b[0m\u001b[0;34m.\u001b[0m\u001b[0;34m\u001b[0m\u001b[0m\n\u001b[1;32m    865\u001b[0m         \"\"\"\n\u001b[0;32m--> 866\u001b[0;31m         \u001b[0membedding\u001b[0m \u001b[0;34m=\u001b[0m \u001b[0mself\u001b[0m\u001b[0;34m.\u001b[0m\u001b[0m_fit\u001b[0m\u001b[0;34m(\u001b[0m\u001b[0mX\u001b[0m\u001b[0;34m)\u001b[0m\u001b[0;34m\u001b[0m\u001b[0m\n\u001b[0m\u001b[1;32m    867\u001b[0m         \u001b[0mself\u001b[0m\u001b[0;34m.\u001b[0m\u001b[0membedding_\u001b[0m \u001b[0;34m=\u001b[0m \u001b[0membedding\u001b[0m\u001b[0;34m\u001b[0m\u001b[0m\n\u001b[1;32m    868\u001b[0m         \u001b[0;32mreturn\u001b[0m \u001b[0mself\u001b[0m\u001b[0;34m.\u001b[0m\u001b[0membedding_\u001b[0m\u001b[0;34m\u001b[0m\u001b[0m\n",
      "\u001b[0;32m/Users/Rolina/anaconda/lib/python2.7/site-packages/sklearn/manifold/t_sne.pyc\u001b[0m in \u001b[0;36m_fit\u001b[0;34m(self, X, skip_num_points)\u001b[0m\n\u001b[1;32m    775\u001b[0m                           \u001b[0mX_embedded\u001b[0m\u001b[0;34m=\u001b[0m\u001b[0mX_embedded\u001b[0m\u001b[0;34m,\u001b[0m\u001b[0;34m\u001b[0m\u001b[0m\n\u001b[1;32m    776\u001b[0m                           \u001b[0mneighbors\u001b[0m\u001b[0;34m=\u001b[0m\u001b[0mneighbors_nn\u001b[0m\u001b[0;34m,\u001b[0m\u001b[0;34m\u001b[0m\u001b[0m\n\u001b[0;32m--> 777\u001b[0;31m                           skip_num_points=skip_num_points)\n\u001b[0m\u001b[1;32m    778\u001b[0m \u001b[0;34m\u001b[0m\u001b[0m\n\u001b[1;32m    779\u001b[0m     def _tsne(self, P, degrees_of_freedom, n_samples, random_state,\n",
      "\u001b[0;32m/Users/Rolina/anaconda/lib/python2.7/site-packages/sklearn/manifold/t_sne.pyc\u001b[0m in \u001b[0;36m_tsne\u001b[0;34m(self, P, degrees_of_freedom, n_samples, random_state, X_embedded, neighbors, skip_num_points)\u001b[0m\n\u001b[1;32m    830\u001b[0m         \u001b[0mopt_args\u001b[0m\u001b[0;34m[\u001b[0m\u001b[0;34m'momentum'\u001b[0m\u001b[0;34m]\u001b[0m \u001b[0;34m=\u001b[0m \u001b[0;36m0.8\u001b[0m\u001b[0;34m\u001b[0m\u001b[0m\n\u001b[1;32m    831\u001b[0m         \u001b[0mopt_args\u001b[0m\u001b[0;34m[\u001b[0m\u001b[0;34m'it'\u001b[0m\u001b[0;34m]\u001b[0m \u001b[0;34m=\u001b[0m \u001b[0mit\u001b[0m \u001b[0;34m+\u001b[0m \u001b[0;36m1\u001b[0m\u001b[0;34m\u001b[0m\u001b[0m\n\u001b[0;32m--> 832\u001b[0;31m         \u001b[0mparams\u001b[0m\u001b[0;34m,\u001b[0m \u001b[0merror\u001b[0m\u001b[0;34m,\u001b[0m \u001b[0mit\u001b[0m \u001b[0;34m=\u001b[0m \u001b[0m_gradient_descent\u001b[0m\u001b[0;34m(\u001b[0m\u001b[0mobj_func\u001b[0m\u001b[0;34m,\u001b[0m \u001b[0mparams\u001b[0m\u001b[0;34m,\u001b[0m \u001b[0;34m**\u001b[0m\u001b[0mopt_args\u001b[0m\u001b[0;34m)\u001b[0m\u001b[0;34m\u001b[0m\u001b[0m\n\u001b[0m\u001b[1;32m    833\u001b[0m         \u001b[0;32mif\u001b[0m \u001b[0mself\u001b[0m\u001b[0;34m.\u001b[0m\u001b[0mverbose\u001b[0m\u001b[0;34m:\u001b[0m\u001b[0;34m\u001b[0m\u001b[0m\n\u001b[1;32m    834\u001b[0m             print(\"[t-SNE] Error after %d iterations with early \"\n",
      "\u001b[0;32m/Users/Rolina/anaconda/lib/python2.7/site-packages/sklearn/manifold/t_sne.pyc\u001b[0m in \u001b[0;36m_gradient_descent\u001b[0;34m(objective, p0, it, n_iter, objective_error, n_iter_check, n_iter_without_progress, momentum, learning_rate, min_gain, min_grad_norm, min_error_diff, verbose, args, kwargs)\u001b[0m\n\u001b[1;32m    385\u001b[0m     \u001b[0;32mfor\u001b[0m \u001b[0mi\u001b[0m \u001b[0;32min\u001b[0m \u001b[0mrange\u001b[0m\u001b[0;34m(\u001b[0m\u001b[0mit\u001b[0m\u001b[0;34m,\u001b[0m \u001b[0mn_iter\u001b[0m\u001b[0;34m)\u001b[0m\u001b[0;34m:\u001b[0m\u001b[0;34m\u001b[0m\u001b[0m\n\u001b[1;32m    386\u001b[0m         \u001b[0mnew_error\u001b[0m\u001b[0;34m,\u001b[0m \u001b[0mgrad\u001b[0m \u001b[0;34m=\u001b[0m \u001b[0mobjective\u001b[0m\u001b[0;34m(\u001b[0m\u001b[0mp\u001b[0m\u001b[0;34m,\u001b[0m \u001b[0;34m*\u001b[0m\u001b[0margs\u001b[0m\u001b[0;34m,\u001b[0m \u001b[0;34m**\u001b[0m\u001b[0mkwargs\u001b[0m\u001b[0;34m)\u001b[0m\u001b[0;34m\u001b[0m\u001b[0m\n\u001b[0;32m--> 387\u001b[0;31m         \u001b[0mgrad_norm\u001b[0m \u001b[0;34m=\u001b[0m \u001b[0mlinalg\u001b[0m\u001b[0;34m.\u001b[0m\u001b[0mnorm\u001b[0m\u001b[0;34m(\u001b[0m\u001b[0mgrad\u001b[0m\u001b[0;34m)\u001b[0m\u001b[0;34m\u001b[0m\u001b[0m\n\u001b[0m\u001b[1;32m    388\u001b[0m \u001b[0;34m\u001b[0m\u001b[0m\n\u001b[1;32m    389\u001b[0m         \u001b[0minc\u001b[0m \u001b[0;34m=\u001b[0m \u001b[0mupdate\u001b[0m \u001b[0;34m*\u001b[0m \u001b[0mgrad\u001b[0m \u001b[0;34m>=\u001b[0m \u001b[0;36m0.0\u001b[0m\u001b[0;34m\u001b[0m\u001b[0m\n",
      "\u001b[0;32m/Users/Rolina/anaconda/lib/python2.7/site-packages/scipy/linalg/misc.pyc\u001b[0m in \u001b[0;36mnorm\u001b[0;34m(a, ord, axis, keepdims)\u001b[0m\n\u001b[1;32m    127\u001b[0m     \"\"\"\n\u001b[1;32m    128\u001b[0m     \u001b[0;31m# Differs from numpy only in non-finite handling and the use of blas.\u001b[0m\u001b[0;34m\u001b[0m\u001b[0;34m\u001b[0m\u001b[0m\n\u001b[0;32m--> 129\u001b[0;31m     \u001b[0ma\u001b[0m \u001b[0;34m=\u001b[0m \u001b[0mnp\u001b[0m\u001b[0;34m.\u001b[0m\u001b[0masarray_chkfinite\u001b[0m\u001b[0;34m(\u001b[0m\u001b[0ma\u001b[0m\u001b[0;34m)\u001b[0m\u001b[0;34m\u001b[0m\u001b[0m\n\u001b[0m\u001b[1;32m    130\u001b[0m \u001b[0;34m\u001b[0m\u001b[0m\n\u001b[1;32m    131\u001b[0m     \u001b[0;31m# Only use optimized norms if axis and keepdims are not specified.\u001b[0m\u001b[0;34m\u001b[0m\u001b[0;34m\u001b[0m\u001b[0m\n",
      "\u001b[0;32m/Users/Rolina/anaconda/lib/python2.7/site-packages/numpy/lib/function_base.pyc\u001b[0m in \u001b[0;36masarray_chkfinite\u001b[0;34m(a, dtype, order)\u001b[0m\n\u001b[1;32m   1020\u001b[0m \u001b[0;34m\u001b[0m\u001b[0m\n\u001b[1;32m   1021\u001b[0m     \u001b[0;34m>>\u001b[0m\u001b[0;34m>\u001b[0m \u001b[0ma\u001b[0m \u001b[0;34m=\u001b[0m \u001b[0;34m[\u001b[0m\u001b[0;36m1\u001b[0m\u001b[0;34m,\u001b[0m \u001b[0;36m2\u001b[0m\u001b[0;34m,\u001b[0m \u001b[0mnp\u001b[0m\u001b[0;34m.\u001b[0m\u001b[0minf\u001b[0m\u001b[0;34m]\u001b[0m\u001b[0;34m\u001b[0m\u001b[0m\n\u001b[0;32m-> 1022\u001b[0;31m     \u001b[0;34m>>\u001b[0m\u001b[0;34m>\u001b[0m \u001b[0;32mtry\u001b[0m\u001b[0;34m:\u001b[0m\u001b[0;34m\u001b[0m\u001b[0m\n\u001b[0m\u001b[1;32m   1023\u001b[0m     \u001b[0;34m.\u001b[0m\u001b[0;34m.\u001b[0m\u001b[0;34m.\u001b[0m     \u001b[0mnp\u001b[0m\u001b[0;34m.\u001b[0m\u001b[0masarray_chkfinite\u001b[0m\u001b[0;34m(\u001b[0m\u001b[0ma\u001b[0m\u001b[0;34m)\u001b[0m\u001b[0;34m\u001b[0m\u001b[0m\n\u001b[1;32m   1024\u001b[0m     \u001b[0;34m.\u001b[0m\u001b[0;34m.\u001b[0m\u001b[0;34m.\u001b[0m \u001b[0;32mexcept\u001b[0m \u001b[0mValueError\u001b[0m\u001b[0;34m:\u001b[0m\u001b[0;34m\u001b[0m\u001b[0m\n",
      "\u001b[0;31mValueError\u001b[0m: array must not contain infs or NaNs"
     ]
    }
   ],
   "source": [
    "num_points = 400\n",
    "\n",
    "tsne = TSNE(perplexity=30, n_components=2, init='pca', n_iter=5000)\n",
    "two_d_embeddings = tsne.fit_transform(final_embeddings[1:num_points+1, :])"
   ]
  },
  {
   "cell_type": "code",
   "execution_count": null,
   "metadata": {
    "collapsed": true
   },
   "outputs": [],
   "source": [
    "def plot(embeddings, labels):\n",
    "  assert embeddings.shape[0] >= len(labels), 'More labels than embeddings'\n",
    "  pylab.figure(figsize=(15,15))  # in inches\n",
    "  for i, label in enumerate(labels):\n",
    "    x, y = embeddings[i,:]\n",
    "    pylab.scatter(x, y)\n",
    "    pylab.annotate(label, xy=(x, y), xytext=(5, 2), textcoords='offset points',\n",
    "                   ha='right', va='bottom')\n",
    "  pylab.show()\n",
    "\n",
    "words = [reverse_dictionary[i] for i in range(1, num_points+1)]\n",
    "plot(two_d_embeddings, words)"
   ]
  },
  {
   "cell_type": "code",
   "execution_count": null,
   "metadata": {
    "collapsed": true
   },
   "outputs": [],
   "source": []
  }
 ],
 "metadata": {
  "colab": {
   "default_view": {},
   "name": "5_word2vec.ipynb",
   "provenance": [],
   "version": "0.3.2",
   "views": {}
  },
  "kernelspec": {
   "display_name": "Python 2",
   "language": "python",
   "name": "python2"
  },
  "language_info": {
   "codemirror_mode": {
    "name": "ipython",
    "version": 2
   },
   "file_extension": ".py",
   "mimetype": "text/x-python",
   "name": "python",
   "nbconvert_exporter": "python",
   "pygments_lexer": "ipython2",
   "version": "2.7.11"
  }
 },
 "nbformat": 4,
 "nbformat_minor": 0
}
